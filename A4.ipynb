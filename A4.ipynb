{
 "cells": [
  {
   "cell_type": "markdown",
   "metadata": {},
   "source": [
    "\n"
   ]
  },
  {
   "cell_type": "markdown",
   "metadata": {},
   "source": [
    "# Assignment #4.\n",
    "I pledge on my honor that I have not given or received any unauthorized assistance on this assignment/examination. I further pledge that I have not copied any material from a book, article, the Internet or any other source except where I have expressly cited the source.\n",
    "\n",
    "By filling out the following fields, you are signing this pledge. No assignment will get credit without being pledged.\n",
    "\n",
    "Name: Beatrice Spinola\n",
    "\n",
    "CWID: 20012606\n",
    "\n",
    "Date: 04/21/2023\n",
    "\n",
    "# Instructions\n",
    "In this assignment, you should use this Jupyter notebook to answer the questions below. Simply type your code into embedded chunks.\n",
    "\n",
    "For all the programming homeworks, you should submit a report as a Jupyter notebook organized by questions, with the proper explanation for every answer, and saved as 1). an HTML or pdf file. It might be easier to generate an HTML file than a pdf file. 2). Notebook file with the extension .ipynb. From the file menu of the Jupyter notebook, you can download the PDF or HTML and ipynb files as: File --> Download as:\n",
    "\n",
    "If you want to improve your homework, you can resubmit it until the deadline."
   ]
  },
  {
   "cell_type": "markdown",
   "metadata": {},
   "source": [
    "Total = 20 points\n",
    "\n",
    "## Question\n",
    "VIX is the Chicago Board Options Exchange (CBOE) Volatility Index.  VIX indicates the expected volatility of the stock market based on S&P500 index options, so you do not need to make any additional volatility calculations.\n",
    "\n",
    "You are a volatility trader and would like to classify the \"Close\" value of the VIX index of future volatility (http://www.cboe.com/vix) in periods of low, middle, and high volatility. \n",
    "\n",
    "As you have access to the historical VIX's Close values (file ^Vix.csv), train a Hidden Markov Model (HMM) to obtain three states of the economy (high, medium, and low volatility).  You can use the GaussianHMM function from the hmmlearn (hmmlearn.hmm) Python package.\n",
    "\n",
    "Instructions to install the package hmmlearn:\n",
    "-\tOpen an Anaconda terminal selecting “Run as Administrator” \n",
    "-\tSubmit the following code in this terminal:\n",
    "conda install -c conda-forge hmmlearn\n",
    "You can also explore the package and other ways to install this package at:\n",
    "https://github.com/hmmlearn/hmmlearn\n",
    "\n",
    "You can also explore the tutorial of hmmlearn and examples at:\n",
    "https://hmmlearn.readthedocs.io/en/latest/tutorial.html\n",
    "\n",
    "\n",
    "1).\tWith the complete dataset of VIX's Close value, create the variable Xp that includes the following periods (you will not use Xp for your model):\n",
    "\n",
    "0.\tLow volatility: observations less or equal than the 15% percentile.\n",
    "1.\tMedium volatility\n",
    "2.\tHigh volatility: observations greater or equal than the 85% percentile.  (1 point)"
   ]
  },
  {
   "cell_type": "code",
   "execution_count": 1,
   "metadata": {},
   "outputs": [
    {
     "name": "stdout",
     "output_type": "stream",
     "text": [
      "Requirement already satisfied: hmmlearn in c:\\users\\beasp\\appdata\\roaming\\python\\python39\\site-packages (0.2.8)\n",
      "Requirement already satisfied: scipy>=0.19 in c:\\users\\beasp\\anaconda3\\lib\\site-packages (from hmmlearn) (1.9.1)\n",
      "Requirement already satisfied: scikit-learn>=0.16 in c:\\users\\beasp\\anaconda3\\lib\\site-packages (from hmmlearn) (1.0.2)\n",
      "Requirement already satisfied: numpy>=1.10 in c:\\users\\beasp\\anaconda3\\lib\\site-packages (from hmmlearn) (1.21.5)\n",
      "Requirement already satisfied: joblib>=0.11 in c:\\users\\beasp\\anaconda3\\lib\\site-packages (from scikit-learn>=0.16->hmmlearn) (1.1.0)\n",
      "Requirement already satisfied: threadpoolctl>=2.0.0 in c:\\users\\beasp\\anaconda3\\lib\\site-packages (from scikit-learn>=0.16->hmmlearn) (2.2.0)\n",
      "Note: you may need to restart the kernel to use updated packages.\n"
     ]
    }
   ],
   "source": [
    "pip install --upgrade --user hmmlearn"
   ]
  },
  {
   "cell_type": "code",
   "execution_count": 2,
   "metadata": {},
   "outputs": [
    {
     "name": "stdout",
     "output_type": "stream",
     "text": [
      "Requirement already satisfied: gitpython in c:\\users\\beasp\\anaconda3\\lib\\site-packages (3.1.31)\n",
      "Requirement already satisfied: gitdb<5,>=4.0.1 in c:\\users\\beasp\\anaconda3\\lib\\site-packages (from gitpython) (4.0.10)\n",
      "Requirement already satisfied: smmap<6,>=3.0.1 in c:\\users\\beasp\\anaconda3\\lib\\site-packages (from gitdb<5,>=4.0.1->gitpython) (5.0.0)\n",
      "Note: you may need to restart the kernel to use updated packages.\n"
     ]
    }
   ],
   "source": [
    "pip install gitpython"
   ]
  },
  {
   "cell_type": "code",
   "execution_count": 3,
   "metadata": {},
   "outputs": [
    {
     "name": "stdout",
     "output_type": "stream",
     "text": [
      "Collecting git+https://github.com/hmmlearn/hmmlearn\n",
      "  Cloning https://github.com/hmmlearn/hmmlearn to c:\\users\\beasp\\appdata\\local\\temp\\pip-req-build-h4y65nu_\n",
      "Note: you may need to restart the kernel to use updated packages.\n"
     ]
    },
    {
     "name": "stderr",
     "output_type": "stream",
     "text": [
      "  ERROR: Error [WinError 2] The system cannot find the file specified while executing command git version\n",
      "ERROR: Cannot find command 'git' - do you have 'git' installed and in your PATH?\n"
     ]
    }
   ],
   "source": [
    "pip install --user git+https://github.com/hmmlearn/hmmlearn"
   ]
  },
  {
   "cell_type": "code",
   "execution_count": 4,
   "metadata": {},
   "outputs": [],
   "source": [
    "# Import packages\n",
    "import numpy as np\n",
    "import pandas as pd\n",
    "import matplotlib.pyplot as plt\n",
    "from hmmlearn import hmm\n",
    "\n",
    "# Tells matplotlib to display images inline instead of a new window\n",
    "%matplotlib inline\n",
    "\n",
    "import warnings\n",
    "warnings.filterwarnings(\"ignore\")"
   ]
  },
  {
   "cell_type": "code",
   "execution_count": 5,
   "metadata": {},
   "outputs": [
    {
     "data": {
      "text/html": [
       "<div>\n",
       "<style scoped>\n",
       "    .dataframe tbody tr th:only-of-type {\n",
       "        vertical-align: middle;\n",
       "    }\n",
       "\n",
       "    .dataframe tbody tr th {\n",
       "        vertical-align: top;\n",
       "    }\n",
       "\n",
       "    .dataframe thead th {\n",
       "        text-align: right;\n",
       "    }\n",
       "</style>\n",
       "<table border=\"1\" class=\"dataframe\">\n",
       "  <thead>\n",
       "    <tr style=\"text-align: right;\">\n",
       "      <th></th>\n",
       "      <th>date</th>\n",
       "      <th>Open</th>\n",
       "      <th>High</th>\n",
       "      <th>Low</th>\n",
       "      <th>Close</th>\n",
       "    </tr>\n",
       "  </thead>\n",
       "  <tbody>\n",
       "    <tr>\n",
       "      <th>0</th>\n",
       "      <td>2003-01-02</td>\n",
       "      <td>28.74</td>\n",
       "      <td>28.74</td>\n",
       "      <td>25.32</td>\n",
       "      <td>25.39</td>\n",
       "    </tr>\n",
       "    <tr>\n",
       "      <th>1</th>\n",
       "      <td>2003-01-03</td>\n",
       "      <td>25.55</td>\n",
       "      <td>25.55</td>\n",
       "      <td>24.68</td>\n",
       "      <td>24.68</td>\n",
       "    </tr>\n",
       "    <tr>\n",
       "      <th>2</th>\n",
       "      <td>2003-01-06</td>\n",
       "      <td>25.32</td>\n",
       "      <td>25.42</td>\n",
       "      <td>24.29</td>\n",
       "      <td>24.91</td>\n",
       "    </tr>\n",
       "    <tr>\n",
       "      <th>3</th>\n",
       "      <td>2003-01-07</td>\n",
       "      <td>25.13</td>\n",
       "      <td>25.69</td>\n",
       "      <td>24.91</td>\n",
       "      <td>25.13</td>\n",
       "    </tr>\n",
       "    <tr>\n",
       "      <th>4</th>\n",
       "      <td>2003-01-08</td>\n",
       "      <td>25.62</td>\n",
       "      <td>25.76</td>\n",
       "      <td>25.07</td>\n",
       "      <td>25.53</td>\n",
       "    </tr>\n",
       "    <tr>\n",
       "      <th>...</th>\n",
       "      <td>...</td>\n",
       "      <td>...</td>\n",
       "      <td>...</td>\n",
       "      <td>...</td>\n",
       "      <td>...</td>\n",
       "    </tr>\n",
       "    <tr>\n",
       "      <th>4395</th>\n",
       "      <td>2020-06-18</td>\n",
       "      <td>33.83</td>\n",
       "      <td>36.25</td>\n",
       "      <td>32.24</td>\n",
       "      <td>32.94</td>\n",
       "    </tr>\n",
       "    <tr>\n",
       "      <th>4396</th>\n",
       "      <td>2020-06-19</td>\n",
       "      <td>32.07</td>\n",
       "      <td>35.12</td>\n",
       "      <td>30.40</td>\n",
       "      <td>35.12</td>\n",
       "    </tr>\n",
       "    <tr>\n",
       "      <th>4397</th>\n",
       "      <td>2020-06-22</td>\n",
       "      <td>35.22</td>\n",
       "      <td>35.39</td>\n",
       "      <td>31.64</td>\n",
       "      <td>31.77</td>\n",
       "    </tr>\n",
       "    <tr>\n",
       "      <th>4398</th>\n",
       "      <td>2020-06-23</td>\n",
       "      <td>31.71</td>\n",
       "      <td>31.71</td>\n",
       "      <td>29.26</td>\n",
       "      <td>31.37</td>\n",
       "    </tr>\n",
       "    <tr>\n",
       "      <th>4399</th>\n",
       "      <td>2020-06-24</td>\n",
       "      <td>31.05</td>\n",
       "      <td>37.12</td>\n",
       "      <td>30.95</td>\n",
       "      <td>33.84</td>\n",
       "    </tr>\n",
       "  </tbody>\n",
       "</table>\n",
       "<p>4400 rows × 5 columns</p>\n",
       "</div>"
      ],
      "text/plain": [
       "            date   Open   High    Low  Close\n",
       "0     2003-01-02  28.74  28.74  25.32  25.39\n",
       "1     2003-01-03  25.55  25.55  24.68  24.68\n",
       "2     2003-01-06  25.32  25.42  24.29  24.91\n",
       "3     2003-01-07  25.13  25.69  24.91  25.13\n",
       "4     2003-01-08  25.62  25.76  25.07  25.53\n",
       "...          ...    ...    ...    ...    ...\n",
       "4395  2020-06-18  33.83  36.25  32.24  32.94\n",
       "4396  2020-06-19  32.07  35.12  30.40  35.12\n",
       "4397  2020-06-22  35.22  35.39  31.64  31.77\n",
       "4398  2020-06-23  31.71  31.71  29.26  31.37\n",
       "4399  2020-06-24  31.05  37.12  30.95  33.84\n",
       "\n",
       "[4400 rows x 5 columns]"
      ]
     },
     "execution_count": 5,
     "metadata": {},
     "output_type": "execute_result"
    }
   ],
   "source": [
    "# Reading the csv file \n",
    "data = pd.read_csv('/Users/beasp/Downloads/^VIX.csv')\n",
    "data"
   ]
  },
  {
   "cell_type": "code",
   "execution_count": 6,
   "metadata": {},
   "outputs": [
    {
     "data": {
      "text/html": [
       "<div>\n",
       "<style scoped>\n",
       "    .dataframe tbody tr th:only-of-type {\n",
       "        vertical-align: middle;\n",
       "    }\n",
       "\n",
       "    .dataframe tbody tr th {\n",
       "        vertical-align: top;\n",
       "    }\n",
       "\n",
       "    .dataframe thead th {\n",
       "        text-align: right;\n",
       "    }\n",
       "</style>\n",
       "<table border=\"1\" class=\"dataframe\">\n",
       "  <thead>\n",
       "    <tr style=\"text-align: right;\">\n",
       "      <th></th>\n",
       "      <th>Open</th>\n",
       "      <th>High</th>\n",
       "      <th>Low</th>\n",
       "      <th>Close</th>\n",
       "    </tr>\n",
       "  </thead>\n",
       "  <tbody>\n",
       "    <tr>\n",
       "      <th>count</th>\n",
       "      <td>4400.000000</td>\n",
       "      <td>4400.000000</td>\n",
       "      <td>4400.000000</td>\n",
       "      <td>4400.000000</td>\n",
       "    </tr>\n",
       "    <tr>\n",
       "      <th>mean</th>\n",
       "      <td>18.946605</td>\n",
       "      <td>19.830373</td>\n",
       "      <td>18.068761</td>\n",
       "      <td>18.837527</td>\n",
       "    </tr>\n",
       "    <tr>\n",
       "      <th>std</th>\n",
       "      <td>9.144273</td>\n",
       "      <td>9.811489</td>\n",
       "      <td>8.463463</td>\n",
       "      <td>9.105915</td>\n",
       "    </tr>\n",
       "    <tr>\n",
       "      <th>min</th>\n",
       "      <td>9.010000</td>\n",
       "      <td>9.310000</td>\n",
       "      <td>8.560000</td>\n",
       "      <td>9.140000</td>\n",
       "    </tr>\n",
       "    <tr>\n",
       "      <th>25%</th>\n",
       "      <td>13.230000</td>\n",
       "      <td>13.757500</td>\n",
       "      <td>12.750000</td>\n",
       "      <td>13.150000</td>\n",
       "    </tr>\n",
       "    <tr>\n",
       "      <th>50%</th>\n",
       "      <td>16.180000</td>\n",
       "      <td>16.890000</td>\n",
       "      <td>15.470000</td>\n",
       "      <td>16.095000</td>\n",
       "    </tr>\n",
       "    <tr>\n",
       "      <th>75%</th>\n",
       "      <td>21.280000</td>\n",
       "      <td>22.335000</td>\n",
       "      <td>20.340000</td>\n",
       "      <td>21.130000</td>\n",
       "    </tr>\n",
       "    <tr>\n",
       "      <th>max</th>\n",
       "      <td>82.690000</td>\n",
       "      <td>89.530000</td>\n",
       "      <td>72.760000</td>\n",
       "      <td>82.690000</td>\n",
       "    </tr>\n",
       "  </tbody>\n",
       "</table>\n",
       "</div>"
      ],
      "text/plain": [
       "              Open         High          Low        Close\n",
       "count  4400.000000  4400.000000  4400.000000  4400.000000\n",
       "mean     18.946605    19.830373    18.068761    18.837527\n",
       "std       9.144273     9.811489     8.463463     9.105915\n",
       "min       9.010000     9.310000     8.560000     9.140000\n",
       "25%      13.230000    13.757500    12.750000    13.150000\n",
       "50%      16.180000    16.890000    15.470000    16.095000\n",
       "75%      21.280000    22.335000    20.340000    21.130000\n",
       "max      82.690000    89.530000    72.760000    82.690000"
      ]
     },
     "execution_count": 6,
     "metadata": {},
     "output_type": "execute_result"
    }
   ],
   "source": [
    "# Summary statistics of the data\n",
    "data.describe()"
   ]
  },
  {
   "cell_type": "code",
   "execution_count": 7,
   "metadata": {},
   "outputs": [
    {
     "data": {
      "text/plain": [
       "count    4400.000000\n",
       "mean       18.837527\n",
       "std         9.105915\n",
       "min         9.140000\n",
       "15%        12.240000\n",
       "50%        16.095000\n",
       "85%        25.230000\n",
       "max        82.690000\n",
       "Name: Close, dtype: float64"
      ]
     },
     "execution_count": 7,
     "metadata": {},
     "output_type": "execute_result"
    }
   ],
   "source": [
    "# Create observations >/= than the 15% percentile, and >/= than the 85% percentile\n",
    "df = data['Close'].describe(percentiles=[.15,.85])\n",
    "df"
   ]
  },
  {
   "cell_type": "code",
   "execution_count": 8,
   "metadata": {},
   "outputs": [],
   "source": [
    "# Add Low and High volatilities columns in the dataset\n",
    "data[\"15\"] = df[\"15%\"]\n",
    "data[\"85\"]= df[\"85%\"]"
   ]
  },
  {
   "cell_type": "code",
   "execution_count": 9,
   "metadata": {},
   "outputs": [
    {
     "data": {
      "text/html": [
       "<div>\n",
       "<style scoped>\n",
       "    .dataframe tbody tr th:only-of-type {\n",
       "        vertical-align: middle;\n",
       "    }\n",
       "\n",
       "    .dataframe tbody tr th {\n",
       "        vertical-align: top;\n",
       "    }\n",
       "\n",
       "    .dataframe thead th {\n",
       "        text-align: right;\n",
       "    }\n",
       "</style>\n",
       "<table border=\"1\" class=\"dataframe\">\n",
       "  <thead>\n",
       "    <tr style=\"text-align: right;\">\n",
       "      <th></th>\n",
       "      <th>date</th>\n",
       "      <th>Open</th>\n",
       "      <th>High</th>\n",
       "      <th>Low</th>\n",
       "      <th>Close</th>\n",
       "      <th>15</th>\n",
       "      <th>85</th>\n",
       "      <th>Xp</th>\n",
       "    </tr>\n",
       "  </thead>\n",
       "  <tbody>\n",
       "    <tr>\n",
       "      <th>0</th>\n",
       "      <td>2003-01-02</td>\n",
       "      <td>28.74</td>\n",
       "      <td>28.74</td>\n",
       "      <td>25.32</td>\n",
       "      <td>25.39</td>\n",
       "      <td>12.24</td>\n",
       "      <td>25.23</td>\n",
       "      <td>2</td>\n",
       "    </tr>\n",
       "    <tr>\n",
       "      <th>1</th>\n",
       "      <td>2003-01-03</td>\n",
       "      <td>25.55</td>\n",
       "      <td>25.55</td>\n",
       "      <td>24.68</td>\n",
       "      <td>24.68</td>\n",
       "      <td>12.24</td>\n",
       "      <td>25.23</td>\n",
       "      <td>1</td>\n",
       "    </tr>\n",
       "    <tr>\n",
       "      <th>2</th>\n",
       "      <td>2003-01-06</td>\n",
       "      <td>25.32</td>\n",
       "      <td>25.42</td>\n",
       "      <td>24.29</td>\n",
       "      <td>24.91</td>\n",
       "      <td>12.24</td>\n",
       "      <td>25.23</td>\n",
       "      <td>1</td>\n",
       "    </tr>\n",
       "    <tr>\n",
       "      <th>3</th>\n",
       "      <td>2003-01-07</td>\n",
       "      <td>25.13</td>\n",
       "      <td>25.69</td>\n",
       "      <td>24.91</td>\n",
       "      <td>25.13</td>\n",
       "      <td>12.24</td>\n",
       "      <td>25.23</td>\n",
       "      <td>1</td>\n",
       "    </tr>\n",
       "    <tr>\n",
       "      <th>4</th>\n",
       "      <td>2003-01-08</td>\n",
       "      <td>25.62</td>\n",
       "      <td>25.76</td>\n",
       "      <td>25.07</td>\n",
       "      <td>25.53</td>\n",
       "      <td>12.24</td>\n",
       "      <td>25.23</td>\n",
       "      <td>2</td>\n",
       "    </tr>\n",
       "    <tr>\n",
       "      <th>...</th>\n",
       "      <td>...</td>\n",
       "      <td>...</td>\n",
       "      <td>...</td>\n",
       "      <td>...</td>\n",
       "      <td>...</td>\n",
       "      <td>...</td>\n",
       "      <td>...</td>\n",
       "      <td>...</td>\n",
       "    </tr>\n",
       "    <tr>\n",
       "      <th>4395</th>\n",
       "      <td>2020-06-18</td>\n",
       "      <td>33.83</td>\n",
       "      <td>36.25</td>\n",
       "      <td>32.24</td>\n",
       "      <td>32.94</td>\n",
       "      <td>12.24</td>\n",
       "      <td>25.23</td>\n",
       "      <td>2</td>\n",
       "    </tr>\n",
       "    <tr>\n",
       "      <th>4396</th>\n",
       "      <td>2020-06-19</td>\n",
       "      <td>32.07</td>\n",
       "      <td>35.12</td>\n",
       "      <td>30.40</td>\n",
       "      <td>35.12</td>\n",
       "      <td>12.24</td>\n",
       "      <td>25.23</td>\n",
       "      <td>2</td>\n",
       "    </tr>\n",
       "    <tr>\n",
       "      <th>4397</th>\n",
       "      <td>2020-06-22</td>\n",
       "      <td>35.22</td>\n",
       "      <td>35.39</td>\n",
       "      <td>31.64</td>\n",
       "      <td>31.77</td>\n",
       "      <td>12.24</td>\n",
       "      <td>25.23</td>\n",
       "      <td>2</td>\n",
       "    </tr>\n",
       "    <tr>\n",
       "      <th>4398</th>\n",
       "      <td>2020-06-23</td>\n",
       "      <td>31.71</td>\n",
       "      <td>31.71</td>\n",
       "      <td>29.26</td>\n",
       "      <td>31.37</td>\n",
       "      <td>12.24</td>\n",
       "      <td>25.23</td>\n",
       "      <td>2</td>\n",
       "    </tr>\n",
       "    <tr>\n",
       "      <th>4399</th>\n",
       "      <td>2020-06-24</td>\n",
       "      <td>31.05</td>\n",
       "      <td>37.12</td>\n",
       "      <td>30.95</td>\n",
       "      <td>33.84</td>\n",
       "      <td>12.24</td>\n",
       "      <td>25.23</td>\n",
       "      <td>2</td>\n",
       "    </tr>\n",
       "  </tbody>\n",
       "</table>\n",
       "<p>4400 rows × 8 columns</p>\n",
       "</div>"
      ],
      "text/plain": [
       "            date   Open   High    Low  Close     15     85  Xp\n",
       "0     2003-01-02  28.74  28.74  25.32  25.39  12.24  25.23   2\n",
       "1     2003-01-03  25.55  25.55  24.68  24.68  12.24  25.23   1\n",
       "2     2003-01-06  25.32  25.42  24.29  24.91  12.24  25.23   1\n",
       "3     2003-01-07  25.13  25.69  24.91  25.13  12.24  25.23   1\n",
       "4     2003-01-08  25.62  25.76  25.07  25.53  12.24  25.23   2\n",
       "...          ...    ...    ...    ...    ...    ...    ...  ..\n",
       "4395  2020-06-18  33.83  36.25  32.24  32.94  12.24  25.23   2\n",
       "4396  2020-06-19  32.07  35.12  30.40  35.12  12.24  25.23   2\n",
       "4397  2020-06-22  35.22  35.39  31.64  31.77  12.24  25.23   2\n",
       "4398  2020-06-23  31.71  31.71  29.26  31.37  12.24  25.23   2\n",
       "4399  2020-06-24  31.05  37.12  30.95  33.84  12.24  25.23   2\n",
       "\n",
       "[4400 rows x 8 columns]"
      ]
     },
     "execution_count": 9,
     "metadata": {},
     "output_type": "execute_result"
    }
   ],
   "source": [
    "# Create a new variable Xp\n",
    "data[\"Xp\"] = 0\n",
    "for i in range(0,4400):\n",
    "    if (data[\"Close\"][i] <= data[\"15\"][i]):\n",
    "        data[\"Xp\"][i] = 0\n",
    "    elif (data[\"Close\"][i] >= data[\"85\"][i]):\n",
    "        data[\"Xp\"][i] = 2\n",
    "    else:\n",
    "        data[\"Xp\"][i] = 1\n",
    "data"
   ]
  },
  {
   "cell_type": "code",
   "execution_count": 10,
   "metadata": {},
   "outputs": [
    {
     "data": {
      "text/html": [
       "<div>\n",
       "<style scoped>\n",
       "    .dataframe tbody tr th:only-of-type {\n",
       "        vertical-align: middle;\n",
       "    }\n",
       "\n",
       "    .dataframe tbody tr th {\n",
       "        vertical-align: top;\n",
       "    }\n",
       "\n",
       "    .dataframe thead th {\n",
       "        text-align: right;\n",
       "    }\n",
       "</style>\n",
       "<table border=\"1\" class=\"dataframe\">\n",
       "  <thead>\n",
       "    <tr style=\"text-align: right;\">\n",
       "      <th></th>\n",
       "      <th>date</th>\n",
       "      <th>Open</th>\n",
       "      <th>High</th>\n",
       "      <th>Low</th>\n",
       "      <th>Close</th>\n",
       "      <th>Xp</th>\n",
       "    </tr>\n",
       "  </thead>\n",
       "  <tbody>\n",
       "    <tr>\n",
       "      <th>0</th>\n",
       "      <td>2003-01-02</td>\n",
       "      <td>28.74</td>\n",
       "      <td>28.74</td>\n",
       "      <td>25.32</td>\n",
       "      <td>25.39</td>\n",
       "      <td>2</td>\n",
       "    </tr>\n",
       "    <tr>\n",
       "      <th>1</th>\n",
       "      <td>2003-01-03</td>\n",
       "      <td>25.55</td>\n",
       "      <td>25.55</td>\n",
       "      <td>24.68</td>\n",
       "      <td>24.68</td>\n",
       "      <td>1</td>\n",
       "    </tr>\n",
       "    <tr>\n",
       "      <th>2</th>\n",
       "      <td>2003-01-06</td>\n",
       "      <td>25.32</td>\n",
       "      <td>25.42</td>\n",
       "      <td>24.29</td>\n",
       "      <td>24.91</td>\n",
       "      <td>1</td>\n",
       "    </tr>\n",
       "    <tr>\n",
       "      <th>3</th>\n",
       "      <td>2003-01-07</td>\n",
       "      <td>25.13</td>\n",
       "      <td>25.69</td>\n",
       "      <td>24.91</td>\n",
       "      <td>25.13</td>\n",
       "      <td>1</td>\n",
       "    </tr>\n",
       "    <tr>\n",
       "      <th>4</th>\n",
       "      <td>2003-01-08</td>\n",
       "      <td>25.62</td>\n",
       "      <td>25.76</td>\n",
       "      <td>25.07</td>\n",
       "      <td>25.53</td>\n",
       "      <td>2</td>\n",
       "    </tr>\n",
       "    <tr>\n",
       "      <th>...</th>\n",
       "      <td>...</td>\n",
       "      <td>...</td>\n",
       "      <td>...</td>\n",
       "      <td>...</td>\n",
       "      <td>...</td>\n",
       "      <td>...</td>\n",
       "    </tr>\n",
       "    <tr>\n",
       "      <th>4395</th>\n",
       "      <td>2020-06-18</td>\n",
       "      <td>33.83</td>\n",
       "      <td>36.25</td>\n",
       "      <td>32.24</td>\n",
       "      <td>32.94</td>\n",
       "      <td>2</td>\n",
       "    </tr>\n",
       "    <tr>\n",
       "      <th>4396</th>\n",
       "      <td>2020-06-19</td>\n",
       "      <td>32.07</td>\n",
       "      <td>35.12</td>\n",
       "      <td>30.40</td>\n",
       "      <td>35.12</td>\n",
       "      <td>2</td>\n",
       "    </tr>\n",
       "    <tr>\n",
       "      <th>4397</th>\n",
       "      <td>2020-06-22</td>\n",
       "      <td>35.22</td>\n",
       "      <td>35.39</td>\n",
       "      <td>31.64</td>\n",
       "      <td>31.77</td>\n",
       "      <td>2</td>\n",
       "    </tr>\n",
       "    <tr>\n",
       "      <th>4398</th>\n",
       "      <td>2020-06-23</td>\n",
       "      <td>31.71</td>\n",
       "      <td>31.71</td>\n",
       "      <td>29.26</td>\n",
       "      <td>31.37</td>\n",
       "      <td>2</td>\n",
       "    </tr>\n",
       "    <tr>\n",
       "      <th>4399</th>\n",
       "      <td>2020-06-24</td>\n",
       "      <td>31.05</td>\n",
       "      <td>37.12</td>\n",
       "      <td>30.95</td>\n",
       "      <td>33.84</td>\n",
       "      <td>2</td>\n",
       "    </tr>\n",
       "  </tbody>\n",
       "</table>\n",
       "<p>4400 rows × 6 columns</p>\n",
       "</div>"
      ],
      "text/plain": [
       "            date   Open   High    Low  Close  Xp\n",
       "0     2003-01-02  28.74  28.74  25.32  25.39   2\n",
       "1     2003-01-03  25.55  25.55  24.68  24.68   1\n",
       "2     2003-01-06  25.32  25.42  24.29  24.91   1\n",
       "3     2003-01-07  25.13  25.69  24.91  25.13   1\n",
       "4     2003-01-08  25.62  25.76  25.07  25.53   2\n",
       "...          ...    ...    ...    ...    ...  ..\n",
       "4395  2020-06-18  33.83  36.25  32.24  32.94   2\n",
       "4396  2020-06-19  32.07  35.12  30.40  35.12   2\n",
       "4397  2020-06-22  35.22  35.39  31.64  31.77   2\n",
       "4398  2020-06-23  31.71  31.71  29.26  31.37   2\n",
       "4399  2020-06-24  31.05  37.12  30.95  33.84   2\n",
       "\n",
       "[4400 rows x 6 columns]"
      ]
     },
     "execution_count": 10,
     "metadata": {},
     "output_type": "execute_result"
    }
   ],
   "source": [
    "# Drop the 15 and 85 percentiles column \n",
    "data = data.drop([\"15\",\"85\"], axis = 1)\n",
    "data"
   ]
  },
  {
   "cell_type": "markdown",
   "metadata": {},
   "source": [
    "2. Train your HMM only using the \"Close\" value of the VIX index from 2003 until 2010. Obtain the hidden states for your test sample using the data from 2011 to 2020 (without including Xp)   (6 points)"
   ]
  },
  {
   "cell_type": "code",
   "execution_count": 11,
   "metadata": {},
   "outputs": [],
   "source": [
    "# Split data into X and Y for train and test sets\n",
    "X = data.drop([\"Open\", \"High\", \"Low\", \"date\",\"Xp\"], axis = 1)\n",
    "Y = data.drop(['Xp',\"Open\",\"High\",\"Low\",\"date\"], axis = 1)\n",
    "\n",
    "# Train is up to end of 2010\n",
    "X = X[0:2015]\n",
    "\n",
    "# Test is 2011 onward to 2020 end of data\n",
    "Y = Y[2015:]"
   ]
  },
  {
   "cell_type": "code",
   "execution_count": 12,
   "metadata": {},
   "outputs": [
    {
     "data": {
      "text/html": [
       "<div>\n",
       "<style scoped>\n",
       "    .dataframe tbody tr th:only-of-type {\n",
       "        vertical-align: middle;\n",
       "    }\n",
       "\n",
       "    .dataframe tbody tr th {\n",
       "        vertical-align: top;\n",
       "    }\n",
       "\n",
       "    .dataframe thead th {\n",
       "        text-align: right;\n",
       "    }\n",
       "</style>\n",
       "<table border=\"1\" class=\"dataframe\">\n",
       "  <thead>\n",
       "    <tr style=\"text-align: right;\">\n",
       "      <th></th>\n",
       "      <th>Close</th>\n",
       "    </tr>\n",
       "  </thead>\n",
       "  <tbody>\n",
       "    <tr>\n",
       "      <th>0</th>\n",
       "      <td>25.39</td>\n",
       "    </tr>\n",
       "    <tr>\n",
       "      <th>1</th>\n",
       "      <td>24.68</td>\n",
       "    </tr>\n",
       "    <tr>\n",
       "      <th>2</th>\n",
       "      <td>24.91</td>\n",
       "    </tr>\n",
       "    <tr>\n",
       "      <th>3</th>\n",
       "      <td>25.13</td>\n",
       "    </tr>\n",
       "    <tr>\n",
       "      <th>4</th>\n",
       "      <td>25.53</td>\n",
       "    </tr>\n",
       "  </tbody>\n",
       "</table>\n",
       "</div>"
      ],
      "text/plain": [
       "   Close\n",
       "0  25.39\n",
       "1  24.68\n",
       "2  24.91\n",
       "3  25.13\n",
       "4  25.53"
      ]
     },
     "execution_count": 12,
     "metadata": {},
     "output_type": "execute_result"
    }
   ],
   "source": [
    "X.head()"
   ]
  },
  {
   "cell_type": "code",
   "execution_count": 13,
   "metadata": {},
   "outputs": [
    {
     "data": {
      "text/html": [
       "<div>\n",
       "<style scoped>\n",
       "    .dataframe tbody tr th:only-of-type {\n",
       "        vertical-align: middle;\n",
       "    }\n",
       "\n",
       "    .dataframe tbody tr th {\n",
       "        vertical-align: top;\n",
       "    }\n",
       "\n",
       "    .dataframe thead th {\n",
       "        text-align: right;\n",
       "    }\n",
       "</style>\n",
       "<table border=\"1\" class=\"dataframe\">\n",
       "  <thead>\n",
       "    <tr style=\"text-align: right;\">\n",
       "      <th></th>\n",
       "      <th>Close</th>\n",
       "    </tr>\n",
       "  </thead>\n",
       "  <tbody>\n",
       "    <tr>\n",
       "      <th>2010</th>\n",
       "      <td>17.67</td>\n",
       "    </tr>\n",
       "    <tr>\n",
       "      <th>2011</th>\n",
       "      <td>17.52</td>\n",
       "    </tr>\n",
       "    <tr>\n",
       "      <th>2012</th>\n",
       "      <td>17.28</td>\n",
       "    </tr>\n",
       "    <tr>\n",
       "      <th>2013</th>\n",
       "      <td>17.52</td>\n",
       "    </tr>\n",
       "    <tr>\n",
       "      <th>2014</th>\n",
       "      <td>17.75</td>\n",
       "    </tr>\n",
       "  </tbody>\n",
       "</table>\n",
       "</div>"
      ],
      "text/plain": [
       "      Close\n",
       "2010  17.67\n",
       "2011  17.52\n",
       "2012  17.28\n",
       "2013  17.52\n",
       "2014  17.75"
      ]
     },
     "execution_count": 13,
     "metadata": {},
     "output_type": "execute_result"
    }
   ],
   "source": [
    "X.tail()"
   ]
  },
  {
   "cell_type": "code",
   "execution_count": 14,
   "metadata": {},
   "outputs": [
    {
     "data": {
      "text/plain": [
       "array([1, 0, 0, ..., 2, 2, 2], dtype=int64)"
      ]
     },
     "execution_count": 14,
     "metadata": {},
     "output_type": "execute_result"
    }
   ],
   "source": [
    "# Train HMM only using the VIX index from 2003 until 2010.\n",
    "remodel = hmm.GaussianHMM(n_components=3, covariance_type=\"full\", n_iter=100)\n",
    "remodel.fit(X)\n",
    "A = remodel.predict(X)\n",
    "\n",
    "#Test sample using the data from 2011 to 2020 \n",
    "#remodel.fit(Y)\n",
    "B = remodel.predict(Y)\n",
    "B"
   ]
  },
  {
   "cell_type": "markdown",
   "metadata": {},
   "source": [
    "2.a). Calculate the mean and variance of each state   (1 point)"
   ]
  },
  {
   "cell_type": "code",
   "execution_count": 15,
   "metadata": {},
   "outputs": [
    {
     "name": "stdout",
     "output_type": "stream",
     "text": [
      "0th hidden state\n",
      "mean =  [13.75279723]\n",
      "var =  [4.68773813]\n",
      "hidden_state = 0\n",
      "\n",
      "1th hidden state\n",
      "mean =  [22.31623256]\n",
      "var =  [10.30838783]\n",
      "hidden_state = 1\n",
      "\n",
      "2th hidden state\n",
      "mean =  [41.41894593]\n",
      "var =  [145.99822402]\n",
      "hidden_state = 2\n",
      "\n"
     ]
    }
   ],
   "source": [
    "# Calculating the mean and variance of each state\n",
    "hidden_state_0 = 0\n",
    "hidden_state_1 = 0\n",
    "hidden_state_2 = 0\n",
    "\n",
    "mean_arr = [];\n",
    "for i in range(remodel.n_components):\n",
    "    mean_arr.append(remodel.means_[i][0])\n",
    "    \n",
    "for i in range(remodel.n_components):\n",
    "    print(\"{0}th hidden state\".format(i))\n",
    "    print(\"mean = \", remodel.means_[i])\n",
    "    print(\"var = \", np.diag(remodel.covars_[i]))\n",
    "    if (remodel.means_[i][0] == max(mean_arr)):\n",
    "        print('hidden_state = 2')\n",
    "    elif (remodel.means_[i][0] == min(mean_arr)):\n",
    "        print('hidden_state = 0')\n",
    "    else:\n",
    "        print('hidden_state = 1')\n",
    "    print()"
   ]
  },
  {
   "cell_type": "markdown",
   "metadata": {},
   "source": [
    "2.b). Calculate the transition matrix. Indicate what is the probability to transicion from a state of low volatility to medium volatility.   (1 point)"
   ]
  },
  {
   "cell_type": "code",
   "execution_count": 16,
   "metadata": {
    "scrolled": true
   },
   "outputs": [
    {
     "name": "stdout",
     "output_type": "stream",
     "text": [
      "Transition matrix\n",
      "[[9.92907005e-01 7.09299479e-03 2.95826897e-44]\n",
      " [9.64796174e-03 9.85027663e-01 5.32437486e-03]\n",
      " [6.60294313e-44 1.52270564e-02 9.84772944e-01]]\n"
     ]
    }
   ],
   "source": [
    "# Transition matrix\n",
    "print(\"Transition matrix\")\n",
    "print(remodel.transmat_)"
   ]
  },
  {
   "cell_type": "markdown",
   "metadata": {},
   "source": [
    "Hence the probability to transition from low volatility to medium volatility is 9.849%"
   ]
  },
  {
   "cell_type": "markdown",
   "metadata": {},
   "source": [
    "2.c).Create a  new variable hidden_states where you assign 2 to the hidden state with the highest mean, 1 the hidden state with the second highest mean, and 0 otherwise.   (1 point)"
   ]
  },
  {
   "cell_type": "code",
   "execution_count": 17,
   "metadata": {},
   "outputs": [
    {
     "data": {
      "text/html": [
       "<div>\n",
       "<style scoped>\n",
       "    .dataframe tbody tr th:only-of-type {\n",
       "        vertical-align: middle;\n",
       "    }\n",
       "\n",
       "    .dataframe tbody tr th {\n",
       "        vertical-align: top;\n",
       "    }\n",
       "\n",
       "    .dataframe thead th {\n",
       "        text-align: right;\n",
       "    }\n",
       "</style>\n",
       "<table border=\"1\" class=\"dataframe\">\n",
       "  <thead>\n",
       "    <tr style=\"text-align: right;\">\n",
       "      <th></th>\n",
       "      <th>date</th>\n",
       "      <th>Open</th>\n",
       "      <th>High</th>\n",
       "      <th>Low</th>\n",
       "      <th>Close</th>\n",
       "      <th>Xp</th>\n",
       "      <th>hidden_states</th>\n",
       "    </tr>\n",
       "  </thead>\n",
       "  <tbody>\n",
       "    <tr>\n",
       "      <th>0</th>\n",
       "      <td>2003-01-02</td>\n",
       "      <td>28.74</td>\n",
       "      <td>28.74</td>\n",
       "      <td>25.32</td>\n",
       "      <td>25.39</td>\n",
       "      <td>2</td>\n",
       "      <td>1</td>\n",
       "    </tr>\n",
       "    <tr>\n",
       "      <th>1</th>\n",
       "      <td>2003-01-03</td>\n",
       "      <td>25.55</td>\n",
       "      <td>25.55</td>\n",
       "      <td>24.68</td>\n",
       "      <td>24.68</td>\n",
       "      <td>1</td>\n",
       "      <td>1</td>\n",
       "    </tr>\n",
       "    <tr>\n",
       "      <th>2</th>\n",
       "      <td>2003-01-06</td>\n",
       "      <td>25.32</td>\n",
       "      <td>25.42</td>\n",
       "      <td>24.29</td>\n",
       "      <td>24.91</td>\n",
       "      <td>1</td>\n",
       "      <td>1</td>\n",
       "    </tr>\n",
       "    <tr>\n",
       "      <th>3</th>\n",
       "      <td>2003-01-07</td>\n",
       "      <td>25.13</td>\n",
       "      <td>25.69</td>\n",
       "      <td>24.91</td>\n",
       "      <td>25.13</td>\n",
       "      <td>1</td>\n",
       "      <td>1</td>\n",
       "    </tr>\n",
       "    <tr>\n",
       "      <th>4</th>\n",
       "      <td>2003-01-08</td>\n",
       "      <td>25.62</td>\n",
       "      <td>25.76</td>\n",
       "      <td>25.07</td>\n",
       "      <td>25.53</td>\n",
       "      <td>2</td>\n",
       "      <td>1</td>\n",
       "    </tr>\n",
       "    <tr>\n",
       "      <th>...</th>\n",
       "      <td>...</td>\n",
       "      <td>...</td>\n",
       "      <td>...</td>\n",
       "      <td>...</td>\n",
       "      <td>...</td>\n",
       "      <td>...</td>\n",
       "      <td>...</td>\n",
       "    </tr>\n",
       "    <tr>\n",
       "      <th>4395</th>\n",
       "      <td>2020-06-18</td>\n",
       "      <td>33.83</td>\n",
       "      <td>36.25</td>\n",
       "      <td>32.24</td>\n",
       "      <td>32.94</td>\n",
       "      <td>2</td>\n",
       "      <td>2</td>\n",
       "    </tr>\n",
       "    <tr>\n",
       "      <th>4396</th>\n",
       "      <td>2020-06-19</td>\n",
       "      <td>32.07</td>\n",
       "      <td>35.12</td>\n",
       "      <td>30.40</td>\n",
       "      <td>35.12</td>\n",
       "      <td>2</td>\n",
       "      <td>2</td>\n",
       "    </tr>\n",
       "    <tr>\n",
       "      <th>4397</th>\n",
       "      <td>2020-06-22</td>\n",
       "      <td>35.22</td>\n",
       "      <td>35.39</td>\n",
       "      <td>31.64</td>\n",
       "      <td>31.77</td>\n",
       "      <td>2</td>\n",
       "      <td>2</td>\n",
       "    </tr>\n",
       "    <tr>\n",
       "      <th>4398</th>\n",
       "      <td>2020-06-23</td>\n",
       "      <td>31.71</td>\n",
       "      <td>31.71</td>\n",
       "      <td>29.26</td>\n",
       "      <td>31.37</td>\n",
       "      <td>2</td>\n",
       "      <td>2</td>\n",
       "    </tr>\n",
       "    <tr>\n",
       "      <th>4399</th>\n",
       "      <td>2020-06-24</td>\n",
       "      <td>31.05</td>\n",
       "      <td>37.12</td>\n",
       "      <td>30.95</td>\n",
       "      <td>33.84</td>\n",
       "      <td>2</td>\n",
       "      <td>2</td>\n",
       "    </tr>\n",
       "  </tbody>\n",
       "</table>\n",
       "<p>4400 rows × 7 columns</p>\n",
       "</div>"
      ],
      "text/plain": [
       "            date   Open   High    Low  Close  Xp  hidden_states\n",
       "0     2003-01-02  28.74  28.74  25.32  25.39   2              1\n",
       "1     2003-01-03  25.55  25.55  24.68  24.68   1              1\n",
       "2     2003-01-06  25.32  25.42  24.29  24.91   1              1\n",
       "3     2003-01-07  25.13  25.69  24.91  25.13   1              1\n",
       "4     2003-01-08  25.62  25.76  25.07  25.53   2              1\n",
       "...          ...    ...    ...    ...    ...  ..            ...\n",
       "4395  2020-06-18  33.83  36.25  32.24  32.94   2              2\n",
       "4396  2020-06-19  32.07  35.12  30.40  35.12   2              2\n",
       "4397  2020-06-22  35.22  35.39  31.64  31.77   2              2\n",
       "4398  2020-06-23  31.71  31.71  29.26  31.37   2              2\n",
       "4399  2020-06-24  31.05  37.12  30.95  33.84   2              2\n",
       "\n",
       "[4400 rows x 7 columns]"
      ]
     },
     "metadata": {},
     "output_type": "display_data"
    }
   ],
   "source": [
    "# Creating a new variable named hidden_states\n",
    "data[\"hidden_states\"] = A.tolist()+B.tolist()\n",
    "display(data)"
   ]
  },
  {
   "cell_type": "markdown",
   "metadata": {},
   "source": [
    "2.d). Calculate the frequency table or confusion matrix comparing your hidden states with the variable Xp.   (1 point)"
   ]
  },
  {
   "cell_type": "code",
   "execution_count": 18,
   "metadata": {},
   "outputs": [
    {
     "data": {
      "text/html": [
       "<div>\n",
       "<style scoped>\n",
       "    .dataframe tbody tr th:only-of-type {\n",
       "        vertical-align: middle;\n",
       "    }\n",
       "\n",
       "    .dataframe tbody tr th {\n",
       "        vertical-align: top;\n",
       "    }\n",
       "\n",
       "    .dataframe thead th {\n",
       "        text-align: right;\n",
       "    }\n",
       "</style>\n",
       "<table border=\"1\" class=\"dataframe\">\n",
       "  <thead>\n",
       "    <tr style=\"text-align: right;\">\n",
       "      <th>Xp</th>\n",
       "      <th>0</th>\n",
       "      <th>1</th>\n",
       "      <th>2</th>\n",
       "    </tr>\n",
       "    <tr>\n",
       "      <th>hidden_states</th>\n",
       "      <th></th>\n",
       "      <th></th>\n",
       "      <th></th>\n",
       "    </tr>\n",
       "  </thead>\n",
       "  <tbody>\n",
       "    <tr>\n",
       "      <th>0</th>\n",
       "      <td>664</td>\n",
       "      <td>1949</td>\n",
       "      <td>0</td>\n",
       "    </tr>\n",
       "    <tr>\n",
       "      <th>1</th>\n",
       "      <td>0</td>\n",
       "      <td>1125</td>\n",
       "      <td>225</td>\n",
       "    </tr>\n",
       "    <tr>\n",
       "      <th>2</th>\n",
       "      <td>0</td>\n",
       "      <td>1</td>\n",
       "      <td>436</td>\n",
       "    </tr>\n",
       "  </tbody>\n",
       "</table>\n",
       "</div>"
      ],
      "text/plain": [
       "Xp               0     1    2\n",
       "hidden_states                \n",
       "0              664  1949    0\n",
       "1                0  1125  225\n",
       "2                0     1  436"
      ]
     },
     "execution_count": 18,
     "metadata": {},
     "output_type": "execute_result"
    }
   ],
   "source": [
    "# Frequency table for the comparision of hidden states with the variable Xp\n",
    "pd.crosstab(data.hidden_states, data.Xp)"
   ]
  },
  {
   "cell_type": "code",
   "execution_count": 19,
   "metadata": {},
   "outputs": [
    {
     "data": {
      "text/html": [
       "<div>\n",
       "<style scoped>\n",
       "    .dataframe tbody tr th:only-of-type {\n",
       "        vertical-align: middle;\n",
       "    }\n",
       "\n",
       "    .dataframe tbody tr th {\n",
       "        vertical-align: top;\n",
       "    }\n",
       "\n",
       "    .dataframe thead th {\n",
       "        text-align: right;\n",
       "    }\n",
       "</style>\n",
       "<table border=\"1\" class=\"dataframe\">\n",
       "  <thead>\n",
       "    <tr style=\"text-align: right;\">\n",
       "      <th></th>\n",
       "      <th>0</th>\n",
       "      <th>1</th>\n",
       "      <th>2</th>\n",
       "    </tr>\n",
       "  </thead>\n",
       "  <tbody>\n",
       "    <tr>\n",
       "      <th>0</th>\n",
       "      <td>664</td>\n",
       "      <td>1949</td>\n",
       "      <td>0</td>\n",
       "    </tr>\n",
       "    <tr>\n",
       "      <th>1</th>\n",
       "      <td>0</td>\n",
       "      <td>1125</td>\n",
       "      <td>225</td>\n",
       "    </tr>\n",
       "    <tr>\n",
       "      <th>2</th>\n",
       "      <td>0</td>\n",
       "      <td>1</td>\n",
       "      <td>436</td>\n",
       "    </tr>\n",
       "  </tbody>\n",
       "</table>\n",
       "</div>"
      ],
      "text/plain": [
       "     0     1    2\n",
       "0  664  1949    0\n",
       "1    0  1125  225\n",
       "2    0     1  436"
      ]
     },
     "execution_count": 19,
     "metadata": {},
     "output_type": "execute_result"
    }
   ],
   "source": [
    "# Creating a confusion matrix for the comparision of hidden states with the variable Xp\n",
    "from sklearn.metrics import confusion_matrix\n",
    "\n",
    "CM = pd.DataFrame(confusion_matrix(data.Xp, data.hidden_states).T, \n",
    "                  index = ['0', '1', '2'], \n",
    "                  columns = ['0', '1', '2'])\n",
    "CM"
   ]
  },
  {
   "cell_type": "markdown",
   "metadata": {},
   "source": [
    "2.e). Calculate accuracy and the Matthews correlation coefficient (sklearn.metrics.matthews_corrcoef) comparing the hidden states with Xp. Discuss your results   (2 points)"
   ]
  },
  {
   "cell_type": "code",
   "execution_count": 20,
   "metadata": {},
   "outputs": [
    {
     "data": {
      "text/html": [
       "<div>\n",
       "<style scoped>\n",
       "    .dataframe tbody tr th:only-of-type {\n",
       "        vertical-align: middle;\n",
       "    }\n",
       "\n",
       "    .dataframe tbody tr th {\n",
       "        vertical-align: top;\n",
       "    }\n",
       "\n",
       "    .dataframe thead th {\n",
       "        text-align: right;\n",
       "    }\n",
       "</style>\n",
       "<table border=\"1\" class=\"dataframe\">\n",
       "  <thead>\n",
       "    <tr style=\"text-align: right;\">\n",
       "      <th></th>\n",
       "      <th>Xp</th>\n",
       "      <th>hidden_states</th>\n",
       "    </tr>\n",
       "  </thead>\n",
       "  <tbody>\n",
       "    <tr>\n",
       "      <th>2015</th>\n",
       "      <td>1</td>\n",
       "      <td>1</td>\n",
       "    </tr>\n",
       "    <tr>\n",
       "      <th>2016</th>\n",
       "      <td>1</td>\n",
       "      <td>0</td>\n",
       "    </tr>\n",
       "    <tr>\n",
       "      <th>2017</th>\n",
       "      <td>1</td>\n",
       "      <td>0</td>\n",
       "    </tr>\n",
       "    <tr>\n",
       "      <th>2018</th>\n",
       "      <td>1</td>\n",
       "      <td>0</td>\n",
       "    </tr>\n",
       "    <tr>\n",
       "      <th>2019</th>\n",
       "      <td>1</td>\n",
       "      <td>0</td>\n",
       "    </tr>\n",
       "    <tr>\n",
       "      <th>...</th>\n",
       "      <td>...</td>\n",
       "      <td>...</td>\n",
       "    </tr>\n",
       "    <tr>\n",
       "      <th>4395</th>\n",
       "      <td>2</td>\n",
       "      <td>2</td>\n",
       "    </tr>\n",
       "    <tr>\n",
       "      <th>4396</th>\n",
       "      <td>2</td>\n",
       "      <td>2</td>\n",
       "    </tr>\n",
       "    <tr>\n",
       "      <th>4397</th>\n",
       "      <td>2</td>\n",
       "      <td>2</td>\n",
       "    </tr>\n",
       "    <tr>\n",
       "      <th>4398</th>\n",
       "      <td>2</td>\n",
       "      <td>2</td>\n",
       "    </tr>\n",
       "    <tr>\n",
       "      <th>4399</th>\n",
       "      <td>2</td>\n",
       "      <td>2</td>\n",
       "    </tr>\n",
       "  </tbody>\n",
       "</table>\n",
       "<p>2385 rows × 2 columns</p>\n",
       "</div>"
      ],
      "text/plain": [
       "      Xp  hidden_states\n",
       "2015   1              1\n",
       "2016   1              0\n",
       "2017   1              0\n",
       "2018   1              0\n",
       "2019   1              0\n",
       "...   ..            ...\n",
       "4395   2              2\n",
       "4396   2              2\n",
       "4397   2              2\n",
       "4398   2              2\n",
       "4399   2              2\n",
       "\n",
       "[2385 rows x 2 columns]"
      ]
     },
     "execution_count": 20,
     "metadata": {},
     "output_type": "execute_result"
    }
   ],
   "source": [
    "#Calculating the accuracy and the Matthews correlation coefficient comparing the hidden states with Xp\n",
    "from sklearn.metrics import matthews_corrcoef,accuracy_score\n",
    "\n",
    "XpRealTest = data.drop([\"Open\",\"High\",\"Low\",\"date\",\"Close\"], axis =1)\n",
    "XpRealTest = XpRealTest[2015:]\n",
    "XpRealTest"
   ]
  },
  {
   "cell_type": "code",
   "execution_count": 21,
   "metadata": {},
   "outputs": [
    {
     "data": {
      "text/plain": [
       "array([1, 1, 1, ..., 2, 2, 2], dtype=int64)"
      ]
     },
     "execution_count": 21,
     "metadata": {},
     "output_type": "execute_result"
    }
   ],
   "source": [
    "known_states_test = XpRealTest['Xp'].to_numpy()\n",
    "known_states_test"
   ]
  },
  {
   "cell_type": "code",
   "execution_count": 22,
   "metadata": {},
   "outputs": [
    {
     "data": {
      "text/plain": [
       "array([1, 0, 0, ..., 2, 2, 2], dtype=int64)"
      ]
     },
     "execution_count": 22,
     "metadata": {},
     "output_type": "execute_result"
    }
   ],
   "source": [
    "B"
   ]
  },
  {
   "cell_type": "code",
   "execution_count": 23,
   "metadata": {},
   "outputs": [
    {
     "data": {
      "text/plain": [
       "0.33288559922684885"
      ]
     },
     "execution_count": 23,
     "metadata": {},
     "output_type": "execute_result"
    }
   ],
   "source": [
    "matthews_corrcoef(known_states_test, B)"
   ]
  },
  {
   "cell_type": "markdown",
   "metadata": {},
   "source": [
    "The Matthews correlation coefficient is used in machine learning as a measure of the quality of binary and multiclass classifications. The Matthews correlation coefficient for our data is around 0.333 which is considered to be a decent prediction."
   ]
  },
  {
   "cell_type": "code",
   "execution_count": 24,
   "metadata": {},
   "outputs": [
    {
     "data": {
      "text/plain": [
       "0.4348008385744235"
      ]
     },
     "execution_count": 24,
     "metadata": {},
     "output_type": "execute_result"
    }
   ],
   "source": [
    "accuracy_score(known_states_test,B)"
   ]
  },
  {
   "cell_type": "markdown",
   "metadata": {},
   "source": [
    "The accuracy for comparing the hidden states with Xp is 0.4360587002096436"
   ]
  },
  {
   "cell_type": "markdown",
   "metadata": {},
   "source": [
    "2.f). Plot VIX for the entire period of analysis and the period from 2011 to 2020. You can use pyplot from the Python matplotlib to generate your graphs. (4 points)"
   ]
  },
  {
   "cell_type": "code",
   "execution_count": 25,
   "metadata": {},
   "outputs": [
    {
     "data": {
      "image/png": "[encoded data removed]",
      "text/plain": [
       "<Figure size 640x480 with 1 Axes>"
      ]
     },
     "metadata": {},
     "output_type": "display_data"
    }
   ],
   "source": [
    "# Plot a graph over entire period\n",
    "plt.plot(data[\"date\"], data[\"Close\"])\n",
    "plt.xlabel('Years')\n",
    "plt.ylabel('Closing Price')\n",
    "plt.show()"
   ]
  },
  {
   "cell_type": "code",
   "execution_count": 26,
   "metadata": {},
   "outputs": [
    {
     "data": {
      "image/png": "[encoded data removed]",
      "text/plain": [
       "<Figure size 640x480 with 1 Axes>"
      ]
     },
     "metadata": {},
     "output_type": "display_data"
    }
   ],
   "source": [
    "# Plot a graph over the period from 2011 to 2020\n",
    "A = data.drop(['Xp',\"Open\",\"High\",\"hidden_states\"], axis = 1)\n",
    "A = A[2015:]\n",
    "A\n",
    "\n",
    "plt.plot(A[\"date\"], A[\"Close\"])\n",
    "plt.xlabel('Years')\n",
    "plt.ylabel('Closing Price')\n",
    "plt.show()"
   ]
  },
  {
   "cell_type": "markdown",
   "metadata": {},
   "source": [
    "3). Discuss the results obtained in the previous question, and review if the periods of high or low volatility detected by your HMM explain any significant changes of the economy (i.e., credit crisis, COVID crisis …) (3 points)"
   ]
  },
  {
   "cell_type": "markdown",
   "metadata": {},
   "source": [
    "We can see that the high is around 80 between 2008 and 2020. This is because of the financial crisis in 2008, when volatility peaked. Because to the COVID issue, volatility hit a new high in 2020. Most years, it was between 10 and 20. There were few cases where it varied between 30 and 40. This tendency is seen in the first graph, which spans the years 2011-2012. This happened during The Great Recession, which occurred following the 2008 financial crisis. The Russian financial crisis caused a minor recession in 2014, with the average price of a barrel falling by over 40%. The graph shows a similar movement when it increased to 50. As a result, we can see that when the market is disrupted and under stress, volatility rises. The lesser the uncertainty in market, the volatility remains low or stable."
   ]
  },
  {
   "cell_type": "markdown",
   "metadata": {},
   "source": [
    "\n"
   ]
  }
 ],
 "metadata": {
  "anaconda-cloud": "",
  "kernelspec": {
   "display_name": "Python 3 (ipykernel)",
   "language": "python",
   "name": "python3"
  },
  "language_info": {
   "codemirror_mode": {
    "name": "ipython",
    "version": 3
   },
   "file_extension": ".py",
   "mimetype": "text/x-python",
   "name": "python",
   "nbconvert_exporter": "python",
   "pygments_lexer": "ipython3",
   "version": "3.9.13"
  }
 },
 "nbformat": 4,
 "nbformat_minor": 1
}

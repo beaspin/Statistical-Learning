{
 "cells": [
  {
   "cell_type": "markdown",
   "id": "fff461be",
   "metadata": {},
   "source": [
    "# Final Project Report"
   ]
  },
  {
   "cell_type": "markdown",
   "id": "b44ccfde",
   "metadata": {},
   "source": [
    "I pledge on my honor that I have not given or received any unauthorized assistance on this assignment/examination. I further pledge that I have not copied any material from a book, article, the Internet or any other source except where I have expressly cited the source.\n",
    "\n",
    "By filling out the following fields, you are signing this pledge. No assignment will get credit without being pledged.\n",
    "\n",
    "Name: Beatrice Spinola\n",
    "\n",
    "CWID: 20012606\n",
    "\n",
    "Date: 05/04/2023"
   ]
  },
  {
   "cell_type": "markdown",
   "id": "163ca19f",
   "metadata": {},
   "source": [
    "1) Identify, define, and motivate the business problem you are addressing."
   ]
  },
  {
   "cell_type": "markdown",
   "id": "9c8f51c3",
   "metadata": {},
   "source": [
    "A telecommunication provider divides its customer base by service usage patterns and categorizes them into four groups (1 = Basic Service, 2 = E-Service, 3 = Plus Service, 4 = Total Service). As a consultant for the telecommunications provider, I will use demographic data to predict group membership. My goal is to address the accuracy of ad-targeted campaigns and improve customer retention."
   ]
  },
  {
   "cell_type": "markdown",
   "id": "be1ebd85",
   "metadata": {},
   "source": [
    "2) How (precisely) will a data mining solution address the business problem?"
   ]
  },
  {
   "cell_type": "markdown",
   "id": "5e7a18b7",
   "metadata": {},
   "source": [
    "By using demographic data to predict group membership, the company can customize offers for individual prospective customers, and run targeted ad campaigns. In other words, the data mining solution can aid the selection of those targeted customers who have a high likelihood of responding to a certain offer. Building models from the results of prior campaigns and utilizing those models to choose the target audience for future campaigns are two examples of how this data mining solution address business problem. Although this data mining technique will allow the telecommunication company to target potential customers more accurately, it won’t predict a customer's group membership with 100% accuracy."
   ]
  },
  {
   "cell_type": "markdown",
   "id": "018da63b",
   "metadata": {},
   "source": [
    "3) Identify and describe the data (and data sources) that will support data mining to address the business problem. Include those aspects of the data that we routinely talk about in class and the homeworks."
   ]
  },
  {
   "cell_type": "markdown",
   "id": "7a0ee3da",
   "metadata": {},
   "source": [
    "The dataset teleCust1000t includes the following variables: \n",
    "region: (1 = East Coast, 2 = West Coast, 3 = South). \n",
    "Tenure: (months). \n",
    "Age: (year). \n",
    "Maritial: (1 = married, 0 = single).\n",
    "Address: (months).\n",
    "Income: (thousands of dollars).\n",
    "Education: (1 = no highschool, 2 = highschool, 3 = college, 4 = graduate, 5 = phd).\n",
    "Employ: (months).\n",
    "Retire: (1 = retired, 0 = not retired).\n",
    "Gender: (1 = male, 2 = female).\n",
    "Reside: (years).\n",
    "Custcat: (1 = Basic Service 2 = E-Service 3 = Plus Service 4 = Total Service)."
   ]
  },
  {
   "cell_type": "code",
   "execution_count": 1,
   "id": "c020cb8c",
   "metadata": {},
   "outputs": [],
   "source": [
    "# Import packages\n",
    "import pandas as pd\n",
    "import seaborn as sns\n",
    "import numpy as np\n",
    "\n",
    "from sklearn.model_selection import cross_val_score\n",
    "from sklearn.model_selection import KFold\n",
    "from sklearn.model_selection import train_test_split\n",
    "from sklearn.model_selection import GridSearchCV\n",
    "from sklearn.ensemble import RandomForestClassifier\n",
    "from sklearn.preprocessing import StandardScaler\n",
    "\n",
    "# Tells matplotlib to display images inline instead of a new window\n",
    "%matplotlib inline"
   ]
  },
  {
   "cell_type": "code",
   "execution_count": 2,
   "id": "f9465e5f",
   "metadata": {},
   "outputs": [],
   "source": [
    "# Reading the csv file\n",
    "df = pd.read_csv(r'C:\\Users\\beasp\\Downloads\\teleCust1000t.csv')"
   ]
  },
  {
   "cell_type": "code",
   "execution_count": 3,
   "id": "290660dd",
   "metadata": {},
   "outputs": [
    {
     "data": {
      "text/html": [
       "<div>\n",
       "<style scoped>\n",
       "    .dataframe tbody tr th:only-of-type {\n",
       "        vertical-align: middle;\n",
       "    }\n",
       "\n",
       "    .dataframe tbody tr th {\n",
       "        vertical-align: top;\n",
       "    }\n",
       "\n",
       "    .dataframe thead th {\n",
       "        text-align: right;\n",
       "    }\n",
       "</style>\n",
       "<table border=\"1\" class=\"dataframe\">\n",
       "  <thead>\n",
       "    <tr style=\"text-align: right;\">\n",
       "      <th></th>\n",
       "      <th>region</th>\n",
       "      <th>tenure</th>\n",
       "      <th>age</th>\n",
       "      <th>marital</th>\n",
       "      <th>address</th>\n",
       "      <th>income</th>\n",
       "      <th>ed</th>\n",
       "      <th>employ</th>\n",
       "      <th>retire</th>\n",
       "      <th>gender</th>\n",
       "      <th>reside</th>\n",
       "      <th>custcat</th>\n",
       "    </tr>\n",
       "  </thead>\n",
       "  <tbody>\n",
       "    <tr>\n",
       "      <th>0</th>\n",
       "      <td>2</td>\n",
       "      <td>13</td>\n",
       "      <td>44</td>\n",
       "      <td>1</td>\n",
       "      <td>9</td>\n",
       "      <td>64.0</td>\n",
       "      <td>4</td>\n",
       "      <td>5</td>\n",
       "      <td>0.0</td>\n",
       "      <td>0</td>\n",
       "      <td>2</td>\n",
       "      <td>1</td>\n",
       "    </tr>\n",
       "    <tr>\n",
       "      <th>1</th>\n",
       "      <td>3</td>\n",
       "      <td>11</td>\n",
       "      <td>33</td>\n",
       "      <td>1</td>\n",
       "      <td>7</td>\n",
       "      <td>136.0</td>\n",
       "      <td>5</td>\n",
       "      <td>5</td>\n",
       "      <td>0.0</td>\n",
       "      <td>0</td>\n",
       "      <td>6</td>\n",
       "      <td>4</td>\n",
       "    </tr>\n",
       "    <tr>\n",
       "      <th>2</th>\n",
       "      <td>3</td>\n",
       "      <td>68</td>\n",
       "      <td>52</td>\n",
       "      <td>1</td>\n",
       "      <td>24</td>\n",
       "      <td>116.0</td>\n",
       "      <td>1</td>\n",
       "      <td>29</td>\n",
       "      <td>0.0</td>\n",
       "      <td>1</td>\n",
       "      <td>2</td>\n",
       "      <td>3</td>\n",
       "    </tr>\n",
       "    <tr>\n",
       "      <th>3</th>\n",
       "      <td>2</td>\n",
       "      <td>33</td>\n",
       "      <td>33</td>\n",
       "      <td>0</td>\n",
       "      <td>12</td>\n",
       "      <td>33.0</td>\n",
       "      <td>2</td>\n",
       "      <td>0</td>\n",
       "      <td>0.0</td>\n",
       "      <td>1</td>\n",
       "      <td>1</td>\n",
       "      <td>1</td>\n",
       "    </tr>\n",
       "    <tr>\n",
       "      <th>4</th>\n",
       "      <td>2</td>\n",
       "      <td>23</td>\n",
       "      <td>30</td>\n",
       "      <td>1</td>\n",
       "      <td>9</td>\n",
       "      <td>30.0</td>\n",
       "      <td>1</td>\n",
       "      <td>2</td>\n",
       "      <td>0.0</td>\n",
       "      <td>0</td>\n",
       "      <td>4</td>\n",
       "      <td>3</td>\n",
       "    </tr>\n",
       "  </tbody>\n",
       "</table>\n",
       "</div>"
      ],
      "text/plain": [
       "   region  tenure  age  marital  address  income  ed  employ  retire  gender  \\\n",
       "0       2      13   44        1        9    64.0   4       5     0.0       0   \n",
       "1       3      11   33        1        7   136.0   5       5     0.0       0   \n",
       "2       3      68   52        1       24   116.0   1      29     0.0       1   \n",
       "3       2      33   33        0       12    33.0   2       0     0.0       1   \n",
       "4       2      23   30        1        9    30.0   1       2     0.0       0   \n",
       "\n",
       "   reside  custcat  \n",
       "0       2        1  \n",
       "1       6        4  \n",
       "2       2        3  \n",
       "3       1        1  \n",
       "4       4        3  "
      ]
     },
     "execution_count": 3,
     "metadata": {},
     "output_type": "execute_result"
    }
   ],
   "source": [
    "# Return the first five rows of the data\n",
    "df.head()"
   ]
  },
  {
   "cell_type": "code",
   "execution_count": 4,
   "id": "cb475a86",
   "metadata": {},
   "outputs": [
    {
     "data": {
      "text/html": [
       "<div>\n",
       "<style scoped>\n",
       "    .dataframe tbody tr th:only-of-type {\n",
       "        vertical-align: middle;\n",
       "    }\n",
       "\n",
       "    .dataframe tbody tr th {\n",
       "        vertical-align: top;\n",
       "    }\n",
       "\n",
       "    .dataframe thead th {\n",
       "        text-align: right;\n",
       "    }\n",
       "</style>\n",
       "<table border=\"1\" class=\"dataframe\">\n",
       "  <thead>\n",
       "    <tr style=\"text-align: right;\">\n",
       "      <th></th>\n",
       "      <th>region</th>\n",
       "      <th>tenure</th>\n",
       "      <th>age</th>\n",
       "      <th>marital</th>\n",
       "      <th>address</th>\n",
       "      <th>income</th>\n",
       "      <th>ed</th>\n",
       "      <th>employ</th>\n",
       "      <th>retire</th>\n",
       "      <th>gender</th>\n",
       "      <th>reside</th>\n",
       "      <th>custcat</th>\n",
       "    </tr>\n",
       "  </thead>\n",
       "  <tbody>\n",
       "    <tr>\n",
       "      <th>count</th>\n",
       "      <td>1000.0000</td>\n",
       "      <td>1000.000000</td>\n",
       "      <td>1000.000000</td>\n",
       "      <td>1000.000000</td>\n",
       "      <td>1000.000000</td>\n",
       "      <td>1000.000000</td>\n",
       "      <td>1000.000000</td>\n",
       "      <td>1000.000000</td>\n",
       "      <td>1000.000000</td>\n",
       "      <td>1000.000000</td>\n",
       "      <td>1000.000000</td>\n",
       "      <td>1000.000000</td>\n",
       "    </tr>\n",
       "    <tr>\n",
       "      <th>mean</th>\n",
       "      <td>2.0220</td>\n",
       "      <td>35.526000</td>\n",
       "      <td>41.684000</td>\n",
       "      <td>0.495000</td>\n",
       "      <td>11.551000</td>\n",
       "      <td>77.535000</td>\n",
       "      <td>2.671000</td>\n",
       "      <td>10.987000</td>\n",
       "      <td>0.047000</td>\n",
       "      <td>0.517000</td>\n",
       "      <td>2.331000</td>\n",
       "      <td>2.487000</td>\n",
       "    </tr>\n",
       "    <tr>\n",
       "      <th>std</th>\n",
       "      <td>0.8162</td>\n",
       "      <td>21.359812</td>\n",
       "      <td>12.558816</td>\n",
       "      <td>0.500225</td>\n",
       "      <td>10.086681</td>\n",
       "      <td>107.044165</td>\n",
       "      <td>1.222397</td>\n",
       "      <td>10.082087</td>\n",
       "      <td>0.211745</td>\n",
       "      <td>0.499961</td>\n",
       "      <td>1.435793</td>\n",
       "      <td>1.120306</td>\n",
       "    </tr>\n",
       "    <tr>\n",
       "      <th>min</th>\n",
       "      <td>1.0000</td>\n",
       "      <td>1.000000</td>\n",
       "      <td>18.000000</td>\n",
       "      <td>0.000000</td>\n",
       "      <td>0.000000</td>\n",
       "      <td>9.000000</td>\n",
       "      <td>1.000000</td>\n",
       "      <td>0.000000</td>\n",
       "      <td>0.000000</td>\n",
       "      <td>0.000000</td>\n",
       "      <td>1.000000</td>\n",
       "      <td>1.000000</td>\n",
       "    </tr>\n",
       "    <tr>\n",
       "      <th>25%</th>\n",
       "      <td>1.0000</td>\n",
       "      <td>17.000000</td>\n",
       "      <td>32.000000</td>\n",
       "      <td>0.000000</td>\n",
       "      <td>3.000000</td>\n",
       "      <td>29.000000</td>\n",
       "      <td>2.000000</td>\n",
       "      <td>3.000000</td>\n",
       "      <td>0.000000</td>\n",
       "      <td>0.000000</td>\n",
       "      <td>1.000000</td>\n",
       "      <td>1.000000</td>\n",
       "    </tr>\n",
       "    <tr>\n",
       "      <th>50%</th>\n",
       "      <td>2.0000</td>\n",
       "      <td>34.000000</td>\n",
       "      <td>40.000000</td>\n",
       "      <td>0.000000</td>\n",
       "      <td>9.000000</td>\n",
       "      <td>47.000000</td>\n",
       "      <td>3.000000</td>\n",
       "      <td>8.000000</td>\n",
       "      <td>0.000000</td>\n",
       "      <td>1.000000</td>\n",
       "      <td>2.000000</td>\n",
       "      <td>3.000000</td>\n",
       "    </tr>\n",
       "    <tr>\n",
       "      <th>75%</th>\n",
       "      <td>3.0000</td>\n",
       "      <td>54.000000</td>\n",
       "      <td>51.000000</td>\n",
       "      <td>1.000000</td>\n",
       "      <td>18.000000</td>\n",
       "      <td>83.000000</td>\n",
       "      <td>4.000000</td>\n",
       "      <td>17.000000</td>\n",
       "      <td>0.000000</td>\n",
       "      <td>1.000000</td>\n",
       "      <td>3.000000</td>\n",
       "      <td>3.000000</td>\n",
       "    </tr>\n",
       "    <tr>\n",
       "      <th>max</th>\n",
       "      <td>3.0000</td>\n",
       "      <td>72.000000</td>\n",
       "      <td>77.000000</td>\n",
       "      <td>1.000000</td>\n",
       "      <td>55.000000</td>\n",
       "      <td>1668.000000</td>\n",
       "      <td>5.000000</td>\n",
       "      <td>47.000000</td>\n",
       "      <td>1.000000</td>\n",
       "      <td>1.000000</td>\n",
       "      <td>8.000000</td>\n",
       "      <td>4.000000</td>\n",
       "    </tr>\n",
       "  </tbody>\n",
       "</table>\n",
       "</div>"
      ],
      "text/plain": [
       "          region       tenure          age      marital      address  \\\n",
       "count  1000.0000  1000.000000  1000.000000  1000.000000  1000.000000   \n",
       "mean      2.0220    35.526000    41.684000     0.495000    11.551000   \n",
       "std       0.8162    21.359812    12.558816     0.500225    10.086681   \n",
       "min       1.0000     1.000000    18.000000     0.000000     0.000000   \n",
       "25%       1.0000    17.000000    32.000000     0.000000     3.000000   \n",
       "50%       2.0000    34.000000    40.000000     0.000000     9.000000   \n",
       "75%       3.0000    54.000000    51.000000     1.000000    18.000000   \n",
       "max       3.0000    72.000000    77.000000     1.000000    55.000000   \n",
       "\n",
       "            income           ed       employ       retire       gender  \\\n",
       "count  1000.000000  1000.000000  1000.000000  1000.000000  1000.000000   \n",
       "mean     77.535000     2.671000    10.987000     0.047000     0.517000   \n",
       "std     107.044165     1.222397    10.082087     0.211745     0.499961   \n",
       "min       9.000000     1.000000     0.000000     0.000000     0.000000   \n",
       "25%      29.000000     2.000000     3.000000     0.000000     0.000000   \n",
       "50%      47.000000     3.000000     8.000000     0.000000     1.000000   \n",
       "75%      83.000000     4.000000    17.000000     0.000000     1.000000   \n",
       "max    1668.000000     5.000000    47.000000     1.000000     1.000000   \n",
       "\n",
       "            reside      custcat  \n",
       "count  1000.000000  1000.000000  \n",
       "mean      2.331000     2.487000  \n",
       "std       1.435793     1.120306  \n",
       "min       1.000000     1.000000  \n",
       "25%       1.000000     1.000000  \n",
       "50%       2.000000     3.000000  \n",
       "75%       3.000000     3.000000  \n",
       "max       8.000000     4.000000  "
      ]
     },
     "execution_count": 4,
     "metadata": {},
     "output_type": "execute_result"
    }
   ],
   "source": [
    "# Description of the data in the DataFrame\n",
    "df.describe()"
   ]
  },
  {
   "cell_type": "code",
   "execution_count": 5,
   "id": "4a426f5a",
   "metadata": {},
   "outputs": [
    {
     "name": "stdout",
     "output_type": "stream",
     "text": [
      "<class 'pandas.core.frame.DataFrame'>\n",
      "RangeIndex: 1000 entries, 0 to 999\n",
      "Data columns (total 12 columns):\n",
      " #   Column   Non-Null Count  Dtype  \n",
      "---  ------   --------------  -----  \n",
      " 0   region   1000 non-null   int64  \n",
      " 1   tenure   1000 non-null   int64  \n",
      " 2   age      1000 non-null   int64  \n",
      " 3   marital  1000 non-null   int64  \n",
      " 4   address  1000 non-null   int64  \n",
      " 5   income   1000 non-null   float64\n",
      " 6   ed       1000 non-null   int64  \n",
      " 7   employ   1000 non-null   int64  \n",
      " 8   retire   1000 non-null   float64\n",
      " 9   gender   1000 non-null   int64  \n",
      " 10  reside   1000 non-null   int64  \n",
      " 11  custcat  1000 non-null   int64  \n",
      "dtypes: float64(2), int64(10)\n",
      "memory usage: 93.9 KB\n"
     ]
    }
   ],
   "source": [
    "# Information about the DataFrame\n",
    "df.info()"
   ]
  },
  {
   "cell_type": "code",
   "execution_count": 6,
   "id": "632f0fb3",
   "metadata": {},
   "outputs": [
    {
     "data": {
      "text/plain": [
       "<AxesSubplot:xlabel='age', ylabel='Count'>"
      ]
     },
     "execution_count": 6,
     "metadata": {},
     "output_type": "execute_result"
    },
    {
     "data": {
      "image/png": "[encoded data removed]",
      "text/plain": [
       "<Figure size 640x480 with 1 Axes>"
      ]
     },
     "metadata": {},
     "output_type": "display_data"
    }
   ],
   "source": [
    "# Histogram for age column\n",
    "sns.histplot(df['age'])"
   ]
  },
  {
   "cell_type": "code",
   "execution_count": 7,
   "id": "f6d52eb0",
   "metadata": {},
   "outputs": [
    {
     "data": {
      "text/plain": [
       "<AxesSubplot:xlabel='income', ylabel='Count'>"
      ]
     },
     "execution_count": 7,
     "metadata": {},
     "output_type": "execute_result"
    },
    {
     "data": {
      "image/png": "[encoded data removed]",
      "text/plain": [
       "<Figure size 640x480 with 1 Axes>"
      ]
     },
     "metadata": {},
     "output_type": "display_data"
    }
   ],
   "source": [
    "# Histogram of income\n",
    "sns.histplot(df[df['income']<250]['income'])"
   ]
  },
  {
   "cell_type": "markdown",
   "id": "f2300699",
   "metadata": {},
   "source": [
    "The median income is 47 and the largest groups of customers are below median income. "
   ]
  },
  {
   "cell_type": "code",
   "execution_count": 8,
   "id": "8406c1f6",
   "metadata": {},
   "outputs": [
    {
     "data": {
      "text/plain": [
       "<AxesSubplot:xlabel='income', ylabel='Count'>"
      ]
     },
     "execution_count": 8,
     "metadata": {},
     "output_type": "execute_result"
    },
    {
     "data": {
      "image/png": "[encoded data removed]",
      "text/plain": [
       "<Figure size 640x480 with 1 Axes>"
      ]
     },
     "metadata": {},
     "output_type": "display_data"
    }
   ],
   "source": [
    "# Histogram of log scale of income\n",
    "sns.histplot(df[df['income']<250]['income'], log_scale = True)"
   ]
  },
  {
   "cell_type": "markdown",
   "id": "cd1d48b8",
   "metadata": {},
   "source": [
    "We assumed that most customers were below median income and by taking the log scale of the income, we confirm our assumption that most customers are below the median income. "
   ]
  },
  {
   "cell_type": "code",
   "execution_count": 9,
   "id": "3b321c66",
   "metadata": {},
   "outputs": [
    {
     "data": {
      "text/plain": [
       "<AxesSubplot:xlabel='custcat', ylabel='Count'>"
      ]
     },
     "execution_count": 9,
     "metadata": {},
     "output_type": "execute_result"
    },
    {
     "data": {
      "image/png": "[encoded data removed]",
      "text/plain": [
       "<Figure size 640x480 with 1 Axes>"
      ]
     },
     "metadata": {},
     "output_type": "display_data"
    }
   ],
   "source": [
    "# Histogram of custcat (the four memberships types)\n",
    "sns.histplot(df['custcat'])"
   ]
  },
  {
   "cell_type": "markdown",
   "id": "078452e7",
   "metadata": {},
   "source": [
    "4) Specify how these data are integrated to produce the format required for data mining. Select a group of features and a main forecast variable (discrete or continuous)"
   ]
  },
  {
   "cell_type": "code",
   "execution_count": 10,
   "id": "fc5a8bcf",
   "metadata": {},
   "outputs": [
    {
     "data": {
      "text/html": [
       "<div>\n",
       "<style scoped>\n",
       "    .dataframe tbody tr th:only-of-type {\n",
       "        vertical-align: middle;\n",
       "    }\n",
       "\n",
       "    .dataframe tbody tr th {\n",
       "        vertical-align: top;\n",
       "    }\n",
       "\n",
       "    .dataframe thead th {\n",
       "        text-align: right;\n",
       "    }\n",
       "</style>\n",
       "<table border=\"1\" class=\"dataframe\">\n",
       "  <thead>\n",
       "    <tr style=\"text-align: right;\">\n",
       "      <th></th>\n",
       "      <th>region</th>\n",
       "      <th>tenure</th>\n",
       "      <th>age</th>\n",
       "      <th>marital</th>\n",
       "      <th>address</th>\n",
       "      <th>income</th>\n",
       "      <th>ed</th>\n",
       "      <th>employ</th>\n",
       "      <th>retire</th>\n",
       "      <th>gender</th>\n",
       "      <th>reside</th>\n",
       "    </tr>\n",
       "    <tr>\n",
       "      <th>custcat</th>\n",
       "      <th></th>\n",
       "      <th></th>\n",
       "      <th></th>\n",
       "      <th></th>\n",
       "      <th></th>\n",
       "      <th></th>\n",
       "      <th></th>\n",
       "      <th></th>\n",
       "      <th></th>\n",
       "      <th></th>\n",
       "      <th></th>\n",
       "    </tr>\n",
       "  </thead>\n",
       "  <tbody>\n",
       "    <tr>\n",
       "      <th>1</th>\n",
       "      <td>2.090226</td>\n",
       "      <td>24.676692</td>\n",
       "      <td>39.657895</td>\n",
       "      <td>0.417293</td>\n",
       "      <td>9.390977</td>\n",
       "      <td>54.759398</td>\n",
       "      <td>2.364662</td>\n",
       "      <td>8.484962</td>\n",
       "      <td>0.041353</td>\n",
       "      <td>0.507519</td>\n",
       "      <td>2.199248</td>\n",
       "    </tr>\n",
       "    <tr>\n",
       "      <th>2</th>\n",
       "      <td>1.963134</td>\n",
       "      <td>43.345622</td>\n",
       "      <td>41.788018</td>\n",
       "      <td>0.529954</td>\n",
       "      <td>12.571429</td>\n",
       "      <td>74.834101</td>\n",
       "      <td>2.958525</td>\n",
       "      <td>10.576037</td>\n",
       "      <td>0.032258</td>\n",
       "      <td>0.548387</td>\n",
       "      <td>2.336406</td>\n",
       "    </tr>\n",
       "    <tr>\n",
       "      <th>3</th>\n",
       "      <td>1.996441</td>\n",
       "      <td>40.078292</td>\n",
       "      <td>44.430605</td>\n",
       "      <td>0.494662</td>\n",
       "      <td>13.380783</td>\n",
       "      <td>89.032028</td>\n",
       "      <td>2.153025</td>\n",
       "      <td>14.309609</td>\n",
       "      <td>0.078292</td>\n",
       "      <td>0.505338</td>\n",
       "      <td>2.227758</td>\n",
       "    </tr>\n",
       "    <tr>\n",
       "      <th>4</th>\n",
       "      <td>2.029661</td>\n",
       "      <td>35.144068</td>\n",
       "      <td>40.601695</td>\n",
       "      <td>0.550847</td>\n",
       "      <td>10.868644</td>\n",
       "      <td>92.000000</td>\n",
       "      <td>3.368644</td>\n",
       "      <td>10.228814</td>\n",
       "      <td>0.029661</td>\n",
       "      <td>0.512712</td>\n",
       "      <td>2.597458</td>\n",
       "    </tr>\n",
       "  </tbody>\n",
       "</table>\n",
       "</div>"
      ],
      "text/plain": [
       "           region     tenure        age   marital    address     income  \\\n",
       "custcat                                                                   \n",
       "1        2.090226  24.676692  39.657895  0.417293   9.390977  54.759398   \n",
       "2        1.963134  43.345622  41.788018  0.529954  12.571429  74.834101   \n",
       "3        1.996441  40.078292  44.430605  0.494662  13.380783  89.032028   \n",
       "4        2.029661  35.144068  40.601695  0.550847  10.868644  92.000000   \n",
       "\n",
       "               ed     employ    retire    gender    reside  \n",
       "custcat                                                     \n",
       "1        2.364662   8.484962  0.041353  0.507519  2.199248  \n",
       "2        2.958525  10.576037  0.032258  0.548387  2.336406  \n",
       "3        2.153025  14.309609  0.078292  0.505338  2.227758  \n",
       "4        3.368644  10.228814  0.029661  0.512712  2.597458  "
      ]
     },
     "execution_count": 10,
     "metadata": {},
     "output_type": "execute_result"
    }
   ],
   "source": [
    "# Group columns based on custcat (the four group memberships) which is our main forecast variable\n",
    "df.groupby('custcat').mean()"
   ]
  },
  {
   "cell_type": "code",
   "execution_count": 11,
   "id": "6bb19cc0",
   "metadata": {},
   "outputs": [],
   "source": [
    "# Select a group of features\n",
    "features = ['tenure', 'retire', 'marital', 'income', 'ed', 'employ', 'address']"
   ]
  },
  {
   "cell_type": "markdown",
   "id": "622b1118",
   "metadata": {},
   "source": [
    "5) Using cross-validation with 10 folds of the training dataset, calibrate the models selecting the optimal values for at least one parameter of each of the following algorithms:\n",
    "• Splines (only if forecasting a continuous variable)\n",
    "• Local linear regression (only if forecasting a continuous variable)\n",
    "• Generalized additive models (only if forecasting a continuous variable)\n",
    "• Decision trees\n",
    "• Bagging\n",
    "• Boosting\n",
    "• Random forest\n",
    "• Support vector machine\n",
    "• Naïve Bayes or Bayes network (only if forecasting a discrete variable)\n",
    "• Deep learning"
   ]
  },
  {
   "cell_type": "code",
   "execution_count": 12,
   "id": "6941532c",
   "metadata": {},
   "outputs": [],
   "source": [
    "models = {}\n",
    "\n",
    "# Split the data into training and test datasets\n",
    "train_df, test_df = train_test_split(df, test_size=0.4, random_state=42)\n",
    "\n",
    "# Define train_df_x\n",
    "train_df_x = train_df[features]\n",
    "\n",
    "# Define test_df_x\n",
    "test_df_x = test_df[features]"
   ]
  },
  {
   "cell_type": "code",
   "execution_count": 13,
   "id": "b3b16be2",
   "metadata": {},
   "outputs": [
    {
     "data": {
      "text/plain": [
       "array([[-1.02026282, -0.21282896,  1.03046381, ..., -1.34303915,\n",
       "        -0.57160493,  0.63289762],\n",
       "       [-0.54722542, -0.21282896,  1.03046381, ..., -1.34303915,\n",
       "         0.0428405 , -0.45122496],\n",
       "       [ 0.16233067, -0.21282896,  1.03046381, ...,  1.12628717,\n",
       "        -0.05956707, -0.05699857],\n",
       "       ...,\n",
       "       [-0.73644038, -0.21282896, -0.97043679, ...,  1.12628717,\n",
       "         0.45247079, -0.94400795],\n",
       "       [ 0.4461531 , -0.21282896,  1.03046381, ...,  1.94939594,\n",
       "        -0.6740125 , -1.14112115],\n",
       "       [-1.11487029, -0.21282896, -0.97043679, ..., -1.34303915,\n",
       "        -1.08364278, -0.94400795]])"
      ]
     },
     "execution_count": 13,
     "metadata": {},
     "output_type": "execute_result"
    }
   ],
   "source": [
    "# Standardize the dataset\n",
    "scaler = StandardScaler()\n",
    "\n",
    "# Fit the scaler on the training data\n",
    "scaler.fit(train_df_x[features])\n",
    "\n",
    "# Transform the training and test data\n",
    "train_df_x = scaler.transform(train_df_x[features])\n",
    "test_df_x = scaler.transform(test_df_x[features])\n",
    "\n",
    "train_df_x"
   ]
  },
  {
   "cell_type": "code",
   "execution_count": 14,
   "id": "1eba68f3",
   "metadata": {},
   "outputs": [
    {
     "name": "stdout",
     "output_type": "stream",
     "text": [
      "Degree 10, MSE: 2.255, STD: 0.45563142999578066\n"
     ]
    },
    {
     "name": "stderr",
     "output_type": "stream",
     "text": [
      "C:\\Users\\beasp\\anaconda3\\lib\\site-packages\\sklearn\\base.py:443: UserWarning: X has feature names, but RandomForestClassifier was fitted without feature names\n",
      "  warnings.warn(\n"
     ]
    },
    {
     "data": {
      "text/plain": [
       "85"
      ]
     },
     "execution_count": 14,
     "metadata": {},
     "output_type": "execute_result"
    }
   ],
   "source": [
    "# Random Forest Classifier\n",
    "rf = RandomForestClassifier()\n",
    "\n",
    "gs = GridSearchCV(rf, {'n_estimators': [2, 3, 4], 'max_depth': [2, 3, 4, 5, 6], 'min_samples_leaf': [1, 2, 3, 4, 5, 8, 15]}, cv = 10)\n",
    "gs.fit(train_df_x, train_df['custcat'])\n",
    "\n",
    "rf = RandomForestClassifier(n_estimators = gs.best_params_['n_estimators'], max_depth = gs.best_params_['max_depth'], min_samples_leaf = gs.best_params_['min_samples_leaf'], random_state = 1)\n",
    "rf.fit(train_df_x, train_df['custcat'])\n",
    "\n",
    "pred = rf.predict(test_df[features])\n",
    "\n",
    "#10-fold cross-validation for the training set\n",
    "crossvalidation = KFold(n_splits=10, random_state=None, shuffle=False)\n",
    "scores = cross_val_score(rf, test_df_x, test_df['custcat'], scoring=\"neg_mean_squared_error\", cv=crossvalidation,n_jobs=1)\n",
    "print(\"Degree \" + str(len(scores)) + \", MSE: \" + str(np.mean(np.abs(scores))) + \", STD: \" +str(np.std(scores)))\n",
    "\n",
    "models[\"Random Forest Classifier\"] = rf\n",
    "\n",
    "# Print the number of accurately predicted observations\n",
    "result_df = pd.DataFrame({'pred': pred, 'actual': test_df['custcat']})\n",
    "(result_df['pred'] == result_df['actual']).sum()"
   ]
  },
  {
   "cell_type": "code",
   "execution_count": 15,
   "id": "27fa4f86",
   "metadata": {},
   "outputs": [
    {
     "name": "stdout",
     "output_type": "stream",
     "text": [
      "Degree 10, MSE: 2.255, STD: 0.45563142999578066\n"
     ]
    },
    {
     "name": "stderr",
     "output_type": "stream",
     "text": [
      "C:\\Users\\beasp\\anaconda3\\lib\\site-packages\\sklearn\\base.py:443: UserWarning: X has feature names, but GaussianNB was fitted without feature names\n",
      "  warnings.warn(\n"
     ]
    },
    {
     "data": {
      "text/plain": [
       "98"
      ]
     },
     "execution_count": 15,
     "metadata": {},
     "output_type": "execute_result"
    }
   ],
   "source": [
    "# Naïve Bayes\n",
    "from sklearn.naive_bayes import GaussianNB\n",
    "gb = GaussianNB()\n",
    "gb.fit(train_df_x, train_df['custcat'])\n",
    "pred = gb.predict(test_df[features])\n",
    "\n",
    "#10-fold cross-validation for the training set\n",
    "crossvalidation = KFold(n_splits=10, random_state=None, shuffle=False)\n",
    "\n",
    "scores = cross_val_score(rf, test_df_x, test_df['custcat'], scoring=\"neg_mean_squared_error\", cv=crossvalidation,n_jobs=1)\n",
    "print(\"Degree \" + str(len(scores)) + \", MSE: \" + str(np.mean(np.abs(scores))) + \", STD: \" +str(np.std(scores)))\n",
    "\n",
    "models[\"Naïve Bayes\"] = gb\n",
    "\n",
    "# Print the number of accurately predicted observations\n",
    "result_df = pd.DataFrame({'pred': pred, 'actual': test_df['custcat']})\n",
    "(result_df['pred'] == result_df['actual']).sum()"
   ]
  },
  {
   "cell_type": "code",
   "execution_count": 16,
   "id": "b85d2636",
   "metadata": {},
   "outputs": [
    {
     "name": "stdout",
     "output_type": "stream",
     "text": [
      "Degree 10, MSE: 2.2025, STD: 0.29737392286479997\n",
      "Degree 10, MSE: 2.38, STD: 0.4891063279083599\n",
      "Degree 10, MSE: 2.1725, STD: 0.38833780397998857\n",
      "Degree 10, MSE: 2.3125, STD: 0.3260080520477984\n"
     ]
    }
   ],
   "source": [
    "# Support Vector Machine\n",
    "from sklearn.svm import SVC\n",
    "\n",
    "#10-fold cross-validation for the training set\n",
    "crossvalidation = KFold(n_splits=10, random_state=None, shuffle=False)\n",
    "kernels = ['linear', 'poly', 'rbf', 'sigmoid']\n",
    "\n",
    "for i in kernels:\n",
    "    svc = SVC(kernel=i, probability=True)\n",
    "\n",
    "    # Let's tell the model what is the data\n",
    "    model = svc.fit(train_df_x, train_df['custcat'])\n",
    "    svc.score(train_df_x, train_df['custcat'])\n",
    "    scores = cross_val_score(model, test_df_x, test_df['custcat'], scoring=\"neg_mean_squared_error\", cv=crossvalidation,n_jobs=1)\n",
    "    print(\"Degree \" + str(len(scores)) + \", MSE: \" + str(np.mean(np.abs(scores))) + \", STD: \" +str(np.std(scores)))\n",
    "    \n",
    "models[\"Support Vector Machine\"] = model"
   ]
  },
  {
   "cell_type": "code",
   "execution_count": 17,
   "id": "42d320b4",
   "metadata": {},
   "outputs": [
    {
     "data": {
      "text/plain": [
       "135"
      ]
     },
     "execution_count": 17,
     "metadata": {},
     "output_type": "execute_result"
    }
   ],
   "source": [
    "svc = models[\"Support Vector Machine\"]\n",
    "pred = svc.predict(test_df_x)\n",
    "\n",
    "# Print the number of accurately predicted observations\n",
    "result_df = pd.DataFrame({'pred': pred, 'actual': test_df['custcat']})\n",
    "(result_df['pred'] == result_df['actual']).sum()"
   ]
  },
  {
   "cell_type": "code",
   "execution_count": 18,
   "id": "d960c8c0",
   "metadata": {},
   "outputs": [
    {
     "name": "stdout",
     "output_type": "stream",
     "text": [
      "Degree 10, MSE: 2.36, STD: 0.528937614468852\n",
      "Degree 10, MSE: 2.2475, STD: 0.5071304072918523\n",
      "Degree 10, MSE: 2.2325000000000004, STD: 0.5054762605701677\n"
     ]
    }
   ],
   "source": [
    "# Boosting\n",
    "from sklearn.ensemble import GradientBoostingClassifier\n",
    "\n",
    "#10-fold cross-validation for the training set\n",
    "crossvalidation = KFold(n_splits=10, random_state=None, shuffle=False)\n",
    "\n",
    "for i in range(1,4):\n",
    "    G_Boost = GradientBoostingClassifier(max_depth=i)\n",
    "\n",
    "    # Let's tell the model what is the data\n",
    "    model = G_Boost.fit(train_df_x, train_df['custcat'])\n",
    "    G_Boost.score(train_df_x, train_df['custcat'])\n",
    "    scores = cross_val_score(model, test_df_x, test_df['custcat'], scoring=\"neg_mean_squared_error\", cv=crossvalidation,n_jobs=1)\n",
    "    print(\"Degree \" + str(len(scores)) + \", MSE: \" + str(np.mean(np.abs(scores))) + \", STD: \" +str(np.std(scores)))\n",
    "\n",
    "models[\"Gradient Boost\"] = model"
   ]
  },
  {
   "cell_type": "code",
   "execution_count": 19,
   "id": "6956bf1e",
   "metadata": {},
   "outputs": [
    {
     "data": {
      "text/plain": [
       "135"
      ]
     },
     "execution_count": 19,
     "metadata": {},
     "output_type": "execute_result"
    }
   ],
   "source": [
    "G_Boost = models[\"Gradient Boost\"]\n",
    "pred = svc.predict(test_df_x)\n",
    "\n",
    "# Print the number of accurately predicted observations\n",
    "result_df = pd.DataFrame({'pred': pred, 'actual': test_df['custcat']})\n",
    "(result_df['pred'] == result_df['actual']).sum()"
   ]
  },
  {
   "cell_type": "markdown",
   "id": "4beb77bc",
   "metadata": {},
   "source": [
    "6) Build a table with the root mean squared error for a regression problem and the Matthews correlation coefficient and test error for a classification problem."
   ]
  },
  {
   "cell_type": "code",
   "execution_count": 20,
   "id": "c1ce11a1",
   "metadata": {},
   "outputs": [
    {
     "data": {
      "text/plain": [
       "{'Random Forest Classifier': RandomForestClassifier(max_depth=3, n_estimators=3, random_state=1),\n",
       " 'Naïve Bayes': GaussianNB(),\n",
       " 'Support Vector Machine': SVC(kernel='sigmoid', probability=True),\n",
       " 'Gradient Boost': GradientBoostingClassifier()}"
      ]
     },
     "execution_count": 20,
     "metadata": {},
     "output_type": "execute_result"
    }
   ],
   "source": [
    "# Build a table with Matthews Correlation Coefficient and Test Error\n",
    "models"
   ]
  },
  {
   "cell_type": "code",
   "execution_count": 21,
   "id": "0cfa5b59",
   "metadata": {},
   "outputs": [
    {
     "name": "stdout",
     "output_type": "stream",
     "text": [
      "                               MCC  Test Error\n",
      "Random Forest Classifier  0.206272      0.5950\n",
      "Naïve Bayes               0.153850      0.6375\n",
      "Support Vector Machine    0.109471      0.6625\n",
      "Gradient Boost            0.110437      0.6675\n"
     ]
    }
   ],
   "source": [
    "# Import necessary libraries\n",
    "from sklearn.metrics import matthews_corrcoef, accuracy_score\n",
    "\n",
    "# Define empty dictionaries to store results\n",
    "mcc_results = {}\n",
    "test_error = {}\n",
    "\n",
    "# Evaluate Matthews Correlation Coefficient, and test error for each model\n",
    "for model_name, model in models.items():\n",
    "    # Predict on test set\n",
    "    y_pred = model.predict(test_df_x)\n",
    "    y_prob = model.predict_proba(test_df_x)\n",
    "    \n",
    "    # Calculate Matthews Correlation Coefficient\n",
    "    mcc = matthews_corrcoef(test_df['custcat'], np.round(y_pred))\n",
    "    mcc_results[model_name] = mcc\n",
    "    \n",
    "    # Calculate test error\n",
    "    error = 1 - accuracy_score(test_df['custcat'], np.round(y_pred))\n",
    "    test_error[model_name] = error\n",
    "    \n",
    "# Print results\n",
    "performance = pd.DataFrame({'MCC': mcc_results, 'Test Error': test_error})\n",
    "print(performance)"
   ]
  },
  {
   "cell_type": "markdown",
   "id": "c75fd742",
   "metadata": {},
   "source": [
    "7) Discuss choices for data mining algorithm: what are the pros and cons of each algorithm?"
   ]
  },
  {
   "cell_type": "markdown",
   "id": "ca914b4d",
   "metadata": {},
   "source": [
    "Random Forest Classifier worked well with my data because it utilizes randomization to avoid overfitting, runs well even without hyperparameters, can handle large datasets efficiently, provides better accuracy than other classification algorithms, and produces good predictions that can be understood easily. The Random Forest Classifier’s weakness is that it is found to be biased while dealing with categorical variables (which are present in our dataset) and can take time to process data, compared to Decision Trees and other models. \n",
    "\n",
    "Naïve Bayes is good as a baseline because it produces results based on the assumption that all parameters are independent, avoids overfitting, and it’s a very fast algorithm compared to other more complicated algorithms. The cons of Naïve Bayes are that it doesn't combine features for over-predictive power, and the assumption that all features are independent is not usually the case in real life, so Naïve Bayes is less accurate than other complicated algorithms. Essentially, its speed comes at a cost (lower accuracy).\n",
    "\n",
    "The benefits of using Support Vector Machine (SVM) are that it works relatively well when there is a clear margin of separation between classes, and it is relatively memory efficient. The disadvantages of the Support Vector Machine are that it isn't great for large datasets like ours, does not perform very well when the data set has more noise (there is a lot of overlap between features), and underperforms in cases where the number of features for each data point exceeds the number of training data samples.\n",
    "\n",
    "Gradient Boost’s advantages are that it is generally more accurate compared to other modes, trains faster, especially on larger datasets like ours, most provide support handling categorical features, and some handle missing values natively. The disadvantages of Gradient Boost are that it can overfit when there is too much noise in the data, which is present in our data, models can be computationally expensive and take a long time to train, and it can be hard to interpret the final models."
   ]
  },
  {
   "cell_type": "markdown",
   "id": "6d3344b9",
   "metadata": {},
   "source": [
    "8) Justify the final selection of the main algorithm for this project. You should consider the performance table and why and how this model should “solve” the business problem (i.e., improve along some dimension of interest to the firm). An algorithm may have an excellent performance score; however, it does not provide enough information to solve your problem. In that case, you may select the algorithm that may not have the highest performance score, although it brings some relevant information to find the best solution."
   ]
  },
  {
   "cell_type": "markdown",
   "id": "a98031fc",
   "metadata": {},
   "source": [
    "The performance table computed above, reports the Matthews Correlation Coefficient and the Test Error for all four data mining algorithms (Random Forest Classifier, Naïve Bayes, Support Vector Machine, and Gradient Boost). \n",
    "\n",
    "Consider that a Matthews Correlation Coefficient, C = 1 indicates perfect agreement between prediction and observation, C = 0 is expected for a prediction no better than random, and C = -1 indicates total disagreement between prediction and observation. And, calculating any form of error rate for a predictive model is called model validation. To validate our models, we calculated the Test Error, which represents the number of incorrectly classified objects divided by the total number of objects. \n",
    "\n",
    "Therefore, I selected the Random Forest Classifier as the final selection of the main algorithm for this project because it has the highest Matthews Correlation Coefficient (C = 0.206272) and the lowest Test Error (ε = 0.5950) out of all the algorithms. Compared to the Naïve Bayes algorithm, the Random Forest Classifier had a Matthews Correlation Coefficient that was 5.24% higher and a Test Error that was 4.25% lower than the baseline. \n",
    "\n",
    "A Matthews Correlation Coefficient equal to 0.206272, indicates that the prediction is better than random but not all predictions matched the observations. Furthermore, a Test Error of 0.5950 suggests that 40.50% of the observations were predicted correctly, or 59.50% of the observations were predicted incorrectly. \n",
    "\n",
    "Therefore, if the telecommunication provider adopted the Random Forest Classifier to predict group membership, they could expect the predictions to be roughly 40.50% correct."
   ]
  },
  {
   "cell_type": "markdown",
   "id": "e5afd3c6",
   "metadata": {},
   "source": [
    "9) Discuss how the result of the data mining is/should be evaluated. How should a business case be developed to project expected improvement? ROI? If this is impossible/difficult, explain why and identify viable alternatives."
   ]
  },
  {
   "cell_type": "markdown",
   "id": "85936556",
   "metadata": {},
   "source": [
    "To evaluate the result of the data mining, the telecommunication company should utilize the analysis to run targeted ad campaigns utilizing the findings of the model, and track customer retention among those customers that signed up in response to the ad campaign. The business should compare customer retention to the average and median customer retention and the customer retention among correctly labeled users, to project expected improvement. In our business problem, we can’t exactly get ROI, but we can get an estimate. \n",
    "\n",
    "What our results find is that the telecommunication company could effectively target 40.50% of its audience. Additionally, the sales team of the telecommunication company could use our analysis to predict customer needs and consequently improve customer retention. The reason why we can’t accurately predict ROI for this business solution is that we don’t have any sales data or any monetary data on the telecommunication company."
   ]
  },
  {
   "cell_type": "markdown",
   "id": "7e7afa36",
   "metadata": {},
   "source": [
    "10) Discuss how the result of the data mining will be deployed."
   ]
  },
  {
   "cell_type": "markdown",
   "id": "6a4b65de",
   "metadata": {},
   "source": [
    "The telecommunication company should deploy the data mining by running targeted ad campaigns and tracking customers that signed up in response to ad-campaigns. \n",
    "To monitor and maintain the data mining model results the telecommunication company should add another column to track customer response to the target add-campaigns. \n",
    "After this specified period, the business should analyze the results of customers acquired by the ad-campaigns for the purposes of improving customer retention."
   ]
  },
  {
   "cell_type": "markdown",
   "id": "6ce517d5",
   "metadata": {},
   "source": [
    "11) Discuss any issues the firm should be aware of regarding deployment."
   ]
  },
  {
   "cell_type": "markdown",
   "id": "16c07fa0",
   "metadata": {},
   "source": [
    "The telecommunication company’s only concern regarding deployment would be the accuracy of the demographic data utilized in ad campaigns."
   ]
  },
  {
   "cell_type": "markdown",
   "id": "fcacc584",
   "metadata": {},
   "source": [
    "12) Are there critical ethical considerations?"
   ]
  },
  {
   "cell_type": "markdown",
   "id": "36d177ed",
   "metadata": {},
   "source": [
    "Although targeted advertising is actually advantageous, most consumers frequently have a limited understanding of it. It is opaque, misleading, and sometimes does not even provide the consumer with a viable way to opt out. So, yes there are some ethical considerations if a company is using its customer’s demographic data to target them into potentially more expensive plans that they might not need.\n",
    "\n",
    "Companies who plan to use these technologies must follow some guidelines to ensure targeted advertising ethics. Some inherent moral duties of companies are not to be deceitful, be actively transparency (companies take reasonable action to ensure customers understand all the information they are presented with), give customers comprehensive control over their data, set precautions in place to prevent sensitive data leaks or misuse, and treat all parties that are affected by their actions fairly."
   ]
  },
  {
   "cell_type": "markdown",
   "id": "ae2f718d",
   "metadata": {},
   "source": [
    "13) Identify the risks associated with your proposed plan and how you would mitigate them."
   ]
  },
  {
   "cell_type": "markdown",
   "id": "a4b7177b",
   "metadata": {},
   "source": [
    "The risks associated with my proposed plan would be that the telecommunication company fails to accurately target the expected 40.50% of its audience. If the business solution failed, the company would incur unnecessary advertising costs and retain fewer customers. To mitigate this risk, the telecommunication company should first verify the accuracy and relevance of its demographic data, before running its ad-targeted campaigns."
   ]
  }
 ],
 "metadata": {
  "kernelspec": {
   "display_name": "Python 3 (ipykernel)",
   "language": "python",
   "name": "python3"
  },
  "language_info": {
   "codemirror_mode": {
    "name": "ipython",
    "version": 3
   },
   "file_extension": ".py",
   "mimetype": "text/x-python",
   "name": "python",
   "nbconvert_exporter": "python",
   "pygments_lexer": "ipython3",
   "version": "3.9.13"
  }
 },
 "nbformat": 4,
 "nbformat_minor": 5
}
